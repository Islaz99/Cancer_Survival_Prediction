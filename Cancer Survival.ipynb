{
 "cells": [
  {
   "cell_type": "markdown",
   "id": "52d522c5",
   "metadata": {},
   "source": [
    "# <center> Breast Cancer Survival Prediction (Team 3)\n",
    "<center> Anqi Zhu"
   ]
  },
  {
   "cell_type": "code",
   "execution_count": 2,
   "id": "80cdac27",
   "metadata": {},
   "outputs": [],
   "source": [
    "import random\n",
    "\n",
    "import numpy as np\n",
    "import pandas as pd\n",
    "import matplotlib.pyplot as plt\n",
    "%matplotlib inline\n",
    "import seaborn as sns\n",
    "import plotly.graph_objects as go\n",
    "\n",
    "from imblearn.over_sampling import SMOTE\n",
    "from sklearn.impute import SimpleImputer\n",
    "from sklearn.preprocessing import StandardScaler, LabelEncoder\n",
    "from sklearn.utils.fixes import loguniform\n",
    "from sklearn.model_selection import train_test_split, GridSearchCV, RandomizedSearchCV\n",
    "from sklearn.linear_model import LogisticRegression, SGDClassifier\n",
    "from sklearn.tree import DecisionTreeClassifier\n",
    "from sklearn.naive_bayes import BernoulliNB\n",
    "from sklearn.neighbors import KNeighborsClassifier\n",
    "from sklearn.svm import LinearSVC, SVC\n",
    "from sklearn.ensemble import RandomForestClassifier\n",
    "from sklearn.neural_network import MLPClassifier\n",
    "from xgboost import XGBClassifier\n",
    "from catboost import CatBoostClassifier\n",
    "\n",
    "from sklearn.decomposition import PCA, KernelPCA\n",
    "from sklearn import metrics\n",
    "from sklearn.metrics import confusion_matrix, classification_report, accuracy_score, f1_score, precision_score, recall_score\n",
    "from sklearn.metrics import roc_auc_score, roc_curve, auc\n",
    "from scipy import stats"
   ]
  },
  {
   "cell_type": "code",
   "execution_count": 3,
   "id": "31df2b39",
   "metadata": {},
   "outputs": [],
   "source": [
    "RANDOM_SEED = 42\n",
    "np.random.seed(RANDOM_SEED)"
   ]
  },
  {
   "cell_type": "markdown",
   "id": "e190e18f",
   "metadata": {},
   "source": [
    "[Data Sourse.](https://ieee-dataport.org/open-access/seer-breast-cancer-data)\n",
    "\n",
    "For more information about stage description, see https://seer.cancer.gov/seerstat/variables/seer/ajcc-stage/6th/breast.html.\n",
    "\n",
    "**FEATURE DESCRIPTION**\n",
    "\n",
    "| Feature | Description | \n",
    "| :--- | --- |\n",
    "| AGE | The age of the patient at diagnosis for the cancer, represents the patient’s actual age in years. |\n",
    "| RACE | (White, Black, Other) |\n",
    "| MARITAL STATUS | The patient’s marital status at the time of diagnosis for the reportable tumor. |\n",
    "| T STAGE | The size and extent of the primary tumor, with T1 being the earliest stage and T4 being the most advanced. |\n",
    "| N STAGE | Different stages of lymph node involvement in breast cancer. | \n",
    "| 6TH STAGE | The 6th edition of the TNM staging system for breast cancer, which was used until 2002, included five stages. | \n",
    "| Grade | How much cancer cells look like normal cells. A lower grade (1) indicates a well-differentiated cancer with a low risk of spreading, while a higher grade (3) indicates a poorly differentiated cancer with a higher risk of spreading. |\n",
    "| A STAGE | A simplified version of stage (Regional, Distant) | \n",
    "| TUMOR SIZE | Exact tumor size in millimeters. | \n",
    "| ESTROGEN STATUS | ER, whether or not breast cancer cells have receptors that can bind to the hormone estrogen. (Positive, Negative). |\n",
    "| PROGESTERONE STATUS | PR, whether or not breast cancer cells have receptors that can bind to the hormone progesterone (Positive, Negative). |\n",
    "| REGIONAL NODES EXAMINED | Total number of regional lymph nodes that were removed and examined by the pathologist. |\n",
    "| REGIONAL NODES POSITIVE | Exact number of regional lymph nodes examined by the pathologist that were found to contain metastases. |\n",
    "| SURVIVAL MONTHS | The length of time between the date of diagnosis and the date of death (if the patient died during the study period) or the date of last follow-up (if the patient was still alive at the end of the study period). | \n",
    "| STATUS | (Binary target: Alive, Dead) Any patient that dies after the follow-up cut-off date is recoded to alive as of the cut-off date. | \n",
    "\n",
    "\n"
   ]
  },
  {
   "cell_type": "code",
   "execution_count": 4,
   "id": "3a5ecf4a",
   "metadata": {},
   "outputs": [
    {
     "data": {
      "text/html": [
       "<div>\n",
       "<style scoped>\n",
       "    .dataframe tbody tr th:only-of-type {\n",
       "        vertical-align: middle;\n",
       "    }\n",
       "\n",
       "    .dataframe tbody tr th {\n",
       "        vertical-align: top;\n",
       "    }\n",
       "\n",
       "    .dataframe thead th {\n",
       "        text-align: right;\n",
       "    }\n",
       "</style>\n",
       "<table border=\"1\" class=\"dataframe\">\n",
       "  <thead>\n",
       "    <tr style=\"text-align: right;\">\n",
       "      <th></th>\n",
       "      <th>Age</th>\n",
       "      <th>Race</th>\n",
       "      <th>Marital Status</th>\n",
       "      <th>Unnamed: 3</th>\n",
       "      <th>T Stage</th>\n",
       "      <th>N Stage</th>\n",
       "      <th>6th Stage</th>\n",
       "      <th>Grade</th>\n",
       "      <th>A Stage</th>\n",
       "      <th>Tumor Size</th>\n",
       "      <th>Estrogen Status</th>\n",
       "      <th>Progesterone Status</th>\n",
       "      <th>Regional Node Examined</th>\n",
       "      <th>Reginol Node Positive</th>\n",
       "      <th>Survival Months</th>\n",
       "      <th>Status</th>\n",
       "    </tr>\n",
       "  </thead>\n",
       "  <tbody>\n",
       "    <tr>\n",
       "      <th>0</th>\n",
       "      <td>43</td>\n",
       "      <td>Other (American Indian/AK Native, Asian/Pacifi...</td>\n",
       "      <td>Married (including common law)</td>\n",
       "      <td>NaN</td>\n",
       "      <td>T2</td>\n",
       "      <td>N3</td>\n",
       "      <td>IIIC</td>\n",
       "      <td>Moderately differentiated; Grade II</td>\n",
       "      <td>Regional</td>\n",
       "      <td>40</td>\n",
       "      <td>Positive</td>\n",
       "      <td>Positive</td>\n",
       "      <td>19</td>\n",
       "      <td>11</td>\n",
       "      <td>1</td>\n",
       "      <td>Alive</td>\n",
       "    </tr>\n",
       "    <tr>\n",
       "      <th>1</th>\n",
       "      <td>47</td>\n",
       "      <td>Other (American Indian/AK Native, Asian/Pacifi...</td>\n",
       "      <td>Married (including common law)</td>\n",
       "      <td>NaN</td>\n",
       "      <td>T2</td>\n",
       "      <td>N2</td>\n",
       "      <td>IIIA</td>\n",
       "      <td>Moderately differentiated; Grade II</td>\n",
       "      <td>Regional</td>\n",
       "      <td>45</td>\n",
       "      <td>Positive</td>\n",
       "      <td>Positive</td>\n",
       "      <td>25</td>\n",
       "      <td>9</td>\n",
       "      <td>2</td>\n",
       "      <td>Alive</td>\n",
       "    </tr>\n",
       "    <tr>\n",
       "      <th>2</th>\n",
       "      <td>67</td>\n",
       "      <td>White</td>\n",
       "      <td>Married (including common law)</td>\n",
       "      <td>NaN</td>\n",
       "      <td>T2</td>\n",
       "      <td>N1</td>\n",
       "      <td>IIB</td>\n",
       "      <td>Poorly differentiated; Grade III</td>\n",
       "      <td>Regional</td>\n",
       "      <td>25</td>\n",
       "      <td>Positive</td>\n",
       "      <td>Positive</td>\n",
       "      <td>4</td>\n",
       "      <td>1</td>\n",
       "      <td>2</td>\n",
       "      <td>Dead</td>\n",
       "    </tr>\n",
       "    <tr>\n",
       "      <th>3</th>\n",
       "      <td>46</td>\n",
       "      <td>White</td>\n",
       "      <td>Divorced</td>\n",
       "      <td>NaN</td>\n",
       "      <td>T1</td>\n",
       "      <td>N1</td>\n",
       "      <td>IIA</td>\n",
       "      <td>Moderately differentiated; Grade II</td>\n",
       "      <td>Regional</td>\n",
       "      <td>19</td>\n",
       "      <td>Positive</td>\n",
       "      <td>Positive</td>\n",
       "      <td>26</td>\n",
       "      <td>1</td>\n",
       "      <td>2</td>\n",
       "      <td>Dead</td>\n",
       "    </tr>\n",
       "    <tr>\n",
       "      <th>4</th>\n",
       "      <td>63</td>\n",
       "      <td>White</td>\n",
       "      <td>Married (including common law)</td>\n",
       "      <td>NaN</td>\n",
       "      <td>T2</td>\n",
       "      <td>N2</td>\n",
       "      <td>IIIA</td>\n",
       "      <td>Moderately differentiated; Grade II</td>\n",
       "      <td>Regional</td>\n",
       "      <td>35</td>\n",
       "      <td>Positive</td>\n",
       "      <td>Positive</td>\n",
       "      <td>21</td>\n",
       "      <td>5</td>\n",
       "      <td>3</td>\n",
       "      <td>Dead</td>\n",
       "    </tr>\n",
       "  </tbody>\n",
       "</table>\n",
       "</div>"
      ],
      "text/plain": [
       "   Age                                              Race   \\\n",
       "0   43  Other (American Indian/AK Native, Asian/Pacifi...   \n",
       "1   47  Other (American Indian/AK Native, Asian/Pacifi...   \n",
       "2   67                                              White   \n",
       "3   46                                              White   \n",
       "4   63                                              White   \n",
       "\n",
       "                   Marital Status  Unnamed: 3 T Stage  N Stage 6th Stage  \\\n",
       "0  Married (including common law)         NaN       T2      N3      IIIC   \n",
       "1  Married (including common law)         NaN       T2      N2      IIIA   \n",
       "2  Married (including common law)         NaN       T2      N1       IIB   \n",
       "3                        Divorced         NaN       T1      N1       IIA   \n",
       "4  Married (including common law)         NaN       T2      N2      IIIA   \n",
       "\n",
       "                                 Grade   A Stage  Tumor Size Estrogen Status  \\\n",
       "0  Moderately differentiated; Grade II  Regional          40        Positive   \n",
       "1  Moderately differentiated; Grade II  Regional          45        Positive   \n",
       "2     Poorly differentiated; Grade III  Regional          25        Positive   \n",
       "3  Moderately differentiated; Grade II  Regional          19        Positive   \n",
       "4  Moderately differentiated; Grade II  Regional          35        Positive   \n",
       "\n",
       "  Progesterone Status  Regional Node Examined  Reginol Node Positive  \\\n",
       "0            Positive                      19                     11   \n",
       "1            Positive                      25                      9   \n",
       "2            Positive                       4                      1   \n",
       "3            Positive                      26                      1   \n",
       "4            Positive                      21                      5   \n",
       "\n",
       "   Survival Months Status  \n",
       "0                1  Alive  \n",
       "1                2  Alive  \n",
       "2                2   Dead  \n",
       "3                2   Dead  \n",
       "4                3   Dead  "
      ]
     },
     "execution_count": 4,
     "metadata": {},
     "output_type": "execute_result"
    }
   ],
   "source": [
    "df = pd.read_csv('SEER Breast Cancer Dataset .csv')\n",
    "df.head()"
   ]
  },
  {
   "cell_type": "code",
   "execution_count": 5,
   "id": "9bafa791",
   "metadata": {},
   "outputs": [
    {
     "name": "stdout",
     "output_type": "stream",
     "text": [
      "<class 'pandas.core.frame.DataFrame'>\n",
      "RangeIndex: 4024 entries, 0 to 4023\n",
      "Data columns (total 16 columns):\n",
      " #   Column                  Non-Null Count  Dtype  \n",
      "---  ------                  --------------  -----  \n",
      " 0   Age                     4024 non-null   int64  \n",
      " 1   Race                    4024 non-null   object \n",
      " 2   Marital Status          4024 non-null   object \n",
      " 3   Unnamed: 3              0 non-null      float64\n",
      " 4   T Stage                 4024 non-null   object \n",
      " 5   N Stage                 4024 non-null   object \n",
      " 6   6th Stage               4024 non-null   object \n",
      " 7   Grade                   4024 non-null   object \n",
      " 8   A Stage                 4024 non-null   object \n",
      " 9   Tumor Size              4024 non-null   int64  \n",
      " 10  Estrogen Status         4024 non-null   object \n",
      " 11  Progesterone Status     4024 non-null   object \n",
      " 12  Regional Node Examined  4024 non-null   int64  \n",
      " 13  Reginol Node Positive   4024 non-null   int64  \n",
      " 14  Survival Months         4024 non-null   int64  \n",
      " 15  Status                  4024 non-null   object \n",
      "dtypes: float64(1), int64(5), object(10)\n",
      "memory usage: 503.1+ KB\n"
     ]
    }
   ],
   "source": [
    "df.info()"
   ]
  },
  {
   "cell_type": "markdown",
   "id": "7d69171a",
   "metadata": {},
   "source": [
    "## 0 Data Cleansing"
   ]
  },
  {
   "cell_type": "code",
   "execution_count": 6,
   "id": "e18fe59a",
   "metadata": {},
   "outputs": [
    {
     "data": {
      "text/html": [
       "<div>\n",
       "<style scoped>\n",
       "    .dataframe tbody tr th:only-of-type {\n",
       "        vertical-align: middle;\n",
       "    }\n",
       "\n",
       "    .dataframe tbody tr th {\n",
       "        vertical-align: top;\n",
       "    }\n",
       "\n",
       "    .dataframe thead th {\n",
       "        text-align: right;\n",
       "    }\n",
       "</style>\n",
       "<table border=\"1\" class=\"dataframe\">\n",
       "  <thead>\n",
       "    <tr style=\"text-align: right;\">\n",
       "      <th></th>\n",
       "      <th>Age</th>\n",
       "      <th>Race</th>\n",
       "      <th>Marital Status</th>\n",
       "      <th>Unnamed: 3</th>\n",
       "      <th>T Stage</th>\n",
       "      <th>N Stage</th>\n",
       "      <th>6th Stage</th>\n",
       "      <th>Grade</th>\n",
       "      <th>A Stage</th>\n",
       "      <th>Tumor Size</th>\n",
       "      <th>Estrogen Status</th>\n",
       "      <th>Progesterone Status</th>\n",
       "      <th>Regional Node Examined</th>\n",
       "      <th>Reginol Node Positive</th>\n",
       "      <th>Survival Months</th>\n",
       "      <th>Status</th>\n",
       "    </tr>\n",
       "  </thead>\n",
       "  <tbody>\n",
       "    <tr>\n",
       "      <th>1010</th>\n",
       "      <td>63</td>\n",
       "      <td>White</td>\n",
       "      <td>Married (including common law)</td>\n",
       "      <td>NaN</td>\n",
       "      <td>T1</td>\n",
       "      <td>N1</td>\n",
       "      <td>IIA</td>\n",
       "      <td>Moderately differentiated; Grade II</td>\n",
       "      <td>Regional</td>\n",
       "      <td>17</td>\n",
       "      <td>Positive</td>\n",
       "      <td>Positive</td>\n",
       "      <td>9</td>\n",
       "      <td>1</td>\n",
       "      <td>56</td>\n",
       "      <td>Alive</td>\n",
       "    </tr>\n",
       "  </tbody>\n",
       "</table>\n",
       "</div>"
      ],
      "text/plain": [
       "      Age  Race                   Marital Status  Unnamed: 3 T Stage  N Stage  \\\n",
       "1010   63  White  Married (including common law)         NaN       T1      N1   \n",
       "\n",
       "     6th Stage                                Grade   A Stage  Tumor Size  \\\n",
       "1010       IIA  Moderately differentiated; Grade II  Regional          17   \n",
       "\n",
       "     Estrogen Status Progesterone Status  Regional Node Examined  \\\n",
       "1010        Positive            Positive                       9   \n",
       "\n",
       "      Reginol Node Positive  Survival Months Status  \n",
       "1010                      1               56  Alive  "
      ]
     },
     "execution_count": 6,
     "metadata": {},
     "output_type": "execute_result"
    }
   ],
   "source": [
    "duplicated_rows = df[df.duplicated()]\n",
    "duplicated_rows"
   ]
  },
  {
   "cell_type": "code",
   "execution_count": 7,
   "id": "4e68cefb",
   "metadata": {},
   "outputs": [
    {
     "name": "stdout",
     "output_type": "stream",
     "text": [
      "Race  ['Other (American Indian/AK Native, Asian/Pacific Islander)' 'White'\n",
      " 'Black']\n",
      "Marital Status ['Married (including common law)' 'Divorced' 'Single (never married)'\n",
      " 'Widowed' 'Separated']\n",
      "T Stage  ['T2' 'T1' 'T3' 'T4']\n",
      "N Stage ['N3' 'N2' 'N1']\n",
      "6th Stage ['IIIC' 'IIIA' 'IIB' 'IIA' 'IIIB']\n",
      "Grade ['Moderately differentiated; Grade II' 'Poorly differentiated; Grade III'\n",
      " 'Well differentiated; Grade I' 'Undifferentiated; anaplastic; Grade IV']\n",
      "A Stage ['Regional' 'Distant']\n",
      "Estrogen Status ['Positive' 'Negative']\n",
      "Progesterone Status ['Positive' 'Negative']\n",
      "Status ['Alive' 'Dead']\n"
     ]
    }
   ],
   "source": [
    "for i in df.select_dtypes('object').columns:\n",
    "    print(i, df[i].unique())"
   ]
  },
  {
   "cell_type": "code",
   "execution_count": 8,
   "id": "ed0f4b47",
   "metadata": {},
   "outputs": [],
   "source": [
    "# simplify values for better visualization\n",
    "race_map = {'Other (American Indian/AK Native, Asian/Pacific Islander)': 'Other', \n",
    "            'White': 'White', \n",
    "            'Black':'Black'}\n",
    "marital_map = {'Married (including common law)':'Married', \n",
    "               'Divorced':'Divorced', \n",
    "               'Single (never married)':'Single', \n",
    "               'Widowed':'Widowed', \n",
    "               'Separated':'Separated'}\n",
    "grade_map = {'Moderately differentiated; Grade II':'Grade II',\n",
    "             'Poorly differentiated; Grade III':'Grade III',\n",
    "             'Well differentiated; Grade I':'Grade I',\n",
    "             'Undifferentiated; anaplastic; Grade IV':'Grade IV'}"
   ]
  },
  {
   "cell_type": "code",
   "execution_count": 9,
   "id": "ab767cf4",
   "metadata": {},
   "outputs": [
    {
     "data": {
      "text/plain": [
       "Index(['Age', 'Race ', 'Marital Status', 'Unnamed: 3', 'T Stage ', 'N Stage',\n",
       "       '6th Stage', 'Grade', 'A Stage', 'Tumor Size', 'Estrogen Status',\n",
       "       'Progesterone Status', 'Regional Node Examined',\n",
       "       'Reginol Node Positive', 'Survival Months', 'Status'],\n",
       "      dtype='object')"
      ]
     },
     "execution_count": 9,
     "metadata": {},
     "output_type": "execute_result"
    }
   ],
   "source": [
    "df.columns"
   ]
  },
  {
   "cell_type": "code",
   "execution_count": 10,
   "id": "0b50aa38",
   "metadata": {},
   "outputs": [
    {
     "name": "stdout",
     "output_type": "stream",
     "text": [
      "<class 'pandas.core.frame.DataFrame'>\n",
      "Int64Index: 4023 entries, 0 to 4023\n",
      "Data columns (total 15 columns):\n",
      " #   Column                  Non-Null Count  Dtype \n",
      "---  ------                  --------------  ----- \n",
      " 0   Age                     4023 non-null   int64 \n",
      " 1   Race                    4023 non-null   object\n",
      " 2   Marital Status          4023 non-null   object\n",
      " 3   T Stage                 4023 non-null   object\n",
      " 4   N Stage                 4023 non-null   object\n",
      " 5   6th Stage               4023 non-null   object\n",
      " 6   Grade                   4023 non-null   object\n",
      " 7   A Stage                 4023 non-null   object\n",
      " 8   Tumor Size              4023 non-null   int64 \n",
      " 9   Estrogen Status         4023 non-null   object\n",
      " 10  Progesterone Status     4023 non-null   object\n",
      " 11  Regional Node Examined  4023 non-null   int64 \n",
      " 12  Reginol Node Positive   4023 non-null   int64 \n",
      " 13  Survival Months         4023 non-null   int64 \n",
      " 14  Status                  4023 non-null   object\n",
      "dtypes: int64(5), object(10)\n",
      "memory usage: 502.9+ KB\n"
     ]
    }
   ],
   "source": [
    "df = df.rename(columns={'Race ': 'Race', 'T Stage ':'T Stage'})\n",
    "df = df.drop('Unnamed: 3', axis=1) # drop useless column\n",
    "df.drop_duplicates(inplace=True) # drop duplicates\n",
    "df['Race'] = df['Race'].map(race_map)\n",
    "df['Marital Status'] = df['Marital Status'].map(marital_map)\n",
    "df['Grade'] = df['Grade'].map(grade_map)\n",
    "df.info()"
   ]
  },
  {
   "cell_type": "markdown",
   "id": "19af0615",
   "metadata": {},
   "source": [
    "**NOTE**\n",
    "\n",
    "There are 4,023 oversavations and 15 variables after initial data cleansing. \n",
    "\n",
    "- 9 categorical (4 ordinal, 5 nominal)\n",
    "- 5 numerical\n",
    "- 1 target"
   ]
  },
  {
   "cell_type": "code",
   "execution_count": 11,
   "id": "3b0d5051",
   "metadata": {},
   "outputs": [
    {
     "data": {
      "text/html": [
       "<div>\n",
       "<style scoped>\n",
       "    .dataframe tbody tr th:only-of-type {\n",
       "        vertical-align: middle;\n",
       "    }\n",
       "\n",
       "    .dataframe tbody tr th {\n",
       "        vertical-align: top;\n",
       "    }\n",
       "\n",
       "    .dataframe thead th {\n",
       "        text-align: right;\n",
       "    }\n",
       "</style>\n",
       "<table border=\"1\" class=\"dataframe\">\n",
       "  <thead>\n",
       "    <tr style=\"text-align: right;\">\n",
       "      <th></th>\n",
       "      <th>Age</th>\n",
       "      <th>Tumor Size</th>\n",
       "      <th>Regional Node Examined</th>\n",
       "      <th>Reginol Node Positive</th>\n",
       "      <th>Survival Months</th>\n",
       "    </tr>\n",
       "  </thead>\n",
       "  <tbody>\n",
       "    <tr>\n",
       "      <th>count</th>\n",
       "      <td>4023.000000</td>\n",
       "      <td>4023.000000</td>\n",
       "      <td>4023.000000</td>\n",
       "      <td>4023.000000</td>\n",
       "      <td>4023.000000</td>\n",
       "    </tr>\n",
       "    <tr>\n",
       "      <th>mean</th>\n",
       "      <td>53.969923</td>\n",
       "      <td>30.477007</td>\n",
       "      <td>14.358439</td>\n",
       "      <td>4.158837</td>\n",
       "      <td>71.301765</td>\n",
       "    </tr>\n",
       "    <tr>\n",
       "      <th>std</th>\n",
       "      <td>8.963118</td>\n",
       "      <td>21.121253</td>\n",
       "      <td>8.100241</td>\n",
       "      <td>5.109724</td>\n",
       "      <td>22.923009</td>\n",
       "    </tr>\n",
       "    <tr>\n",
       "      <th>min</th>\n",
       "      <td>30.000000</td>\n",
       "      <td>1.000000</td>\n",
       "      <td>1.000000</td>\n",
       "      <td>1.000000</td>\n",
       "      <td>1.000000</td>\n",
       "    </tr>\n",
       "    <tr>\n",
       "      <th>25%</th>\n",
       "      <td>47.000000</td>\n",
       "      <td>16.000000</td>\n",
       "      <td>9.000000</td>\n",
       "      <td>1.000000</td>\n",
       "      <td>56.000000</td>\n",
       "    </tr>\n",
       "    <tr>\n",
       "      <th>50%</th>\n",
       "      <td>54.000000</td>\n",
       "      <td>25.000000</td>\n",
       "      <td>14.000000</td>\n",
       "      <td>2.000000</td>\n",
       "      <td>73.000000</td>\n",
       "    </tr>\n",
       "    <tr>\n",
       "      <th>75%</th>\n",
       "      <td>61.000000</td>\n",
       "      <td>38.000000</td>\n",
       "      <td>19.000000</td>\n",
       "      <td>5.000000</td>\n",
       "      <td>90.000000</td>\n",
       "    </tr>\n",
       "    <tr>\n",
       "      <th>max</th>\n",
       "      <td>69.000000</td>\n",
       "      <td>140.000000</td>\n",
       "      <td>61.000000</td>\n",
       "      <td>46.000000</td>\n",
       "      <td>107.000000</td>\n",
       "    </tr>\n",
       "  </tbody>\n",
       "</table>\n",
       "</div>"
      ],
      "text/plain": [
       "               Age   Tumor Size  Regional Node Examined  \\\n",
       "count  4023.000000  4023.000000             4023.000000   \n",
       "mean     53.969923    30.477007               14.358439   \n",
       "std       8.963118    21.121253                8.100241   \n",
       "min      30.000000     1.000000                1.000000   \n",
       "25%      47.000000    16.000000                9.000000   \n",
       "50%      54.000000    25.000000               14.000000   \n",
       "75%      61.000000    38.000000               19.000000   \n",
       "max      69.000000   140.000000               61.000000   \n",
       "\n",
       "       Reginol Node Positive  Survival Months  \n",
       "count            4023.000000      4023.000000  \n",
       "mean                4.158837        71.301765  \n",
       "std                 5.109724        22.923009  \n",
       "min                 1.000000         1.000000  \n",
       "25%                 1.000000        56.000000  \n",
       "50%                 2.000000        73.000000  \n",
       "75%                 5.000000        90.000000  \n",
       "max                46.000000       107.000000  "
      ]
     },
     "execution_count": 11,
     "metadata": {},
     "output_type": "execute_result"
    }
   ],
   "source": [
    "df.describe() # check statistics and outliers"
   ]
  },
  {
   "cell_type": "code",
   "execution_count": 12,
   "id": "56a3d8c4",
   "metadata": {},
   "outputs": [
    {
     "data": {
      "image/png": "[encoded data removed]",
      "text/plain": [
       "<Figure size 432x288 with 1 Axes>"
      ]
     },
     "metadata": {
      "needs_background": "light"
     },
     "output_type": "display_data"
    }
   ],
   "source": [
    "df.plot(kind=\"box\")\n",
    "plt.xticks(rotation=30)\n",
    "plt.show()"
   ]
  },
  {
   "cell_type": "code",
   "execution_count": 13,
   "id": "42974a25",
   "metadata": {},
   "outputs": [
    {
     "data": {
      "text/html": [
       "<div>\n",
       "<style scoped>\n",
       "    .dataframe tbody tr th:only-of-type {\n",
       "        vertical-align: middle;\n",
       "    }\n",
       "\n",
       "    .dataframe tbody tr th {\n",
       "        vertical-align: top;\n",
       "    }\n",
       "\n",
       "    .dataframe thead th {\n",
       "        text-align: right;\n",
       "    }\n",
       "</style>\n",
       "<table border=\"1\" class=\"dataframe\">\n",
       "  <thead>\n",
       "    <tr style=\"text-align: right;\">\n",
       "      <th></th>\n",
       "      <th>Age</th>\n",
       "      <th>Race</th>\n",
       "      <th>Marital Status</th>\n",
       "      <th>T Stage</th>\n",
       "      <th>N Stage</th>\n",
       "      <th>6th Stage</th>\n",
       "      <th>Grade</th>\n",
       "      <th>A Stage</th>\n",
       "      <th>Tumor Size</th>\n",
       "      <th>Estrogen Status</th>\n",
       "      <th>Progesterone Status</th>\n",
       "      <th>Regional Node Examined</th>\n",
       "      <th>Reginol Node Positive</th>\n",
       "      <th>Survival Months</th>\n",
       "      <th>Status</th>\n",
       "    </tr>\n",
       "  </thead>\n",
       "  <tbody>\n",
       "    <tr>\n",
       "      <th>473</th>\n",
       "      <td>49</td>\n",
       "      <td>White</td>\n",
       "      <td>Married</td>\n",
       "      <td>T3</td>\n",
       "      <td>N1</td>\n",
       "      <td>IIIA</td>\n",
       "      <td>Grade II</td>\n",
       "      <td>Regional</td>\n",
       "      <td>140</td>\n",
       "      <td>Positive</td>\n",
       "      <td>Positive</td>\n",
       "      <td>14</td>\n",
       "      <td>2</td>\n",
       "      <td>48</td>\n",
       "      <td>Alive</td>\n",
       "    </tr>\n",
       "    <tr>\n",
       "      <th>655</th>\n",
       "      <td>41</td>\n",
       "      <td>White</td>\n",
       "      <td>Married</td>\n",
       "      <td>T3</td>\n",
       "      <td>N3</td>\n",
       "      <td>IIIC</td>\n",
       "      <td>Grade III</td>\n",
       "      <td>Regional</td>\n",
       "      <td>140</td>\n",
       "      <td>Positive</td>\n",
       "      <td>Positive</td>\n",
       "      <td>41</td>\n",
       "      <td>15</td>\n",
       "      <td>51</td>\n",
       "      <td>Dead</td>\n",
       "    </tr>\n",
       "    <tr>\n",
       "      <th>1028</th>\n",
       "      <td>60</td>\n",
       "      <td>White</td>\n",
       "      <td>Divorced</td>\n",
       "      <td>T3</td>\n",
       "      <td>N2</td>\n",
       "      <td>IIIA</td>\n",
       "      <td>Grade II</td>\n",
       "      <td>Regional</td>\n",
       "      <td>140</td>\n",
       "      <td>Positive</td>\n",
       "      <td>Positive</td>\n",
       "      <td>21</td>\n",
       "      <td>5</td>\n",
       "      <td>57</td>\n",
       "      <td>Alive</td>\n",
       "    </tr>\n",
       "    <tr>\n",
       "      <th>1451</th>\n",
       "      <td>47</td>\n",
       "      <td>White</td>\n",
       "      <td>Married</td>\n",
       "      <td>T3</td>\n",
       "      <td>N2</td>\n",
       "      <td>IIIA</td>\n",
       "      <td>Grade I</td>\n",
       "      <td>Regional</td>\n",
       "      <td>140</td>\n",
       "      <td>Positive</td>\n",
       "      <td>Positive</td>\n",
       "      <td>23</td>\n",
       "      <td>7</td>\n",
       "      <td>64</td>\n",
       "      <td>Alive</td>\n",
       "    </tr>\n",
       "    <tr>\n",
       "      <th>2947</th>\n",
       "      <td>63</td>\n",
       "      <td>White</td>\n",
       "      <td>Married</td>\n",
       "      <td>T4</td>\n",
       "      <td>N2</td>\n",
       "      <td>IIIB</td>\n",
       "      <td>Grade II</td>\n",
       "      <td>Regional</td>\n",
       "      <td>140</td>\n",
       "      <td>Positive</td>\n",
       "      <td>Positive</td>\n",
       "      <td>9</td>\n",
       "      <td>8</td>\n",
       "      <td>89</td>\n",
       "      <td>Alive</td>\n",
       "    </tr>\n",
       "  </tbody>\n",
       "</table>\n",
       "</div>"
      ],
      "text/plain": [
       "      Age   Race Marital Status T Stage N Stage 6th Stage      Grade  \\\n",
       "473    49  White        Married      T3      N1      IIIA   Grade II   \n",
       "655    41  White        Married      T3      N3      IIIC  Grade III   \n",
       "1028   60  White       Divorced      T3      N2      IIIA   Grade II   \n",
       "1451   47  White        Married      T3      N2      IIIA    Grade I   \n",
       "2947   63  White        Married      T4      N2      IIIB   Grade II   \n",
       "\n",
       "       A Stage  Tumor Size Estrogen Status Progesterone Status  \\\n",
       "473   Regional         140        Positive            Positive   \n",
       "655   Regional         140        Positive            Positive   \n",
       "1028  Regional         140        Positive            Positive   \n",
       "1451  Regional         140        Positive            Positive   \n",
       "2947  Regional         140        Positive            Positive   \n",
       "\n",
       "      Regional Node Examined  Reginol Node Positive  Survival Months Status  \n",
       "473                       14                      2               48  Alive  \n",
       "655                       41                     15               51   Dead  \n",
       "1028                      21                      5               57  Alive  \n",
       "1451                      23                      7               64  Alive  \n",
       "2947                       9                      8               89  Alive  "
      ]
     },
     "execution_count": 13,
     "metadata": {},
     "output_type": "execute_result"
    }
   ],
   "source": [
    "df[df['Tumor Size'] == 140] # ?outliers?"
   ]
  },
  {
   "cell_type": "markdown",
   "id": "41d9c841",
   "metadata": {},
   "source": [
    "**NOTE**\n",
    "\n",
    "It seems there are so many \"outliers\", and it's hard to define a threshold. So, firstly I just keep all observations. "
   ]
  },
  {
   "cell_type": "markdown",
   "id": "a3c24088",
   "metadata": {},
   "source": [
    "## 1 EDA"
   ]
  },
  {
   "cell_type": "markdown",
   "id": "837e19d1",
   "metadata": {},
   "source": [
    "### 1.1 Univariate - numeric"
   ]
  },
  {
   "cell_type": "code",
   "execution_count": 14,
   "id": "f87e42b1",
   "metadata": {},
   "outputs": [
    {
     "data": {
      "image/png": "[encoded data removed]",
      "text/plain": [
       "<Figure size 864x576 with 6 Axes>"
      ]
     },
     "metadata": {
      "needs_background": "light"
     },
     "output_type": "display_data"
    }
   ],
   "source": [
    "fig, axes = plt.subplots(nrows=2, ncols=3, figsize=(12, 8))\n",
    "axes = axes.flatten()\n",
    "\n",
    "for ax, col in zip(axes, df.select_dtypes(exclude='object').columns):\n",
    "     sns.boxplot(x=col, data=df, ax=ax)\n",
    "\n",
    "\n",
    "plt.tight_layout()\n",
    "plt.show()"
   ]
  },
  {
   "cell_type": "code",
   "execution_count": 15,
   "id": "81439f92",
   "metadata": {},
   "outputs": [
    {
     "data": {
      "image/png": "[encoded data removed]",
      "text/plain": [
       "<Figure size 864x576 with 6 Axes>"
      ]
     },
     "metadata": {
      "needs_background": "light"
     },
     "output_type": "display_data"
    }
   ],
   "source": [
    "fig, axes = plt.subplots(nrows=2, ncols=3, figsize=(12, 8))\n",
    "axes = axes.flatten()\n",
    "\n",
    "for ax, col in zip(axes, df.select_dtypes(exclude='object').columns):\n",
    "#     sns.boxplot(x=col, data=df, ax=ax)\n",
    "    sns.histplot(x=col, data=df, kde='True', ax=ax) \n",
    "\n",
    "plt.tight_layout()\n",
    "plt.show()"
   ]
  },
  {
   "cell_type": "code",
   "execution_count": 16,
   "id": "f07f11cb",
   "metadata": {},
   "outputs": [
    {
     "name": "stdout",
     "output_type": "stream",
     "text": [
      "Age -0.21984951902435948\n",
      "Tumor Size 1.738737882231101\n",
      "Regional Node Examined 0.8285755394696898\n",
      "Reginol Node Positive 2.701175330252809\n",
      "Survival Months -0.5902268781434038\n"
     ]
    }
   ],
   "source": [
    "for col in df.select_dtypes(exclude='object').columns: \n",
    "    print(col, stats.skew(df[col]))"
   ]
  },
  {
   "cell_type": "markdown",
   "id": "2f76b670",
   "metadata": {},
   "source": [
    "**NOTE**\n",
    "\n",
    "- `Tumor size` and `Regional Node Positive` are highly positive skewed and transformation may be needed. \n",
    "- `Age` is slightly negative skewed and `Survival Months` is moderately negative skewed.\n",
    "- `Regional Node Examined` is moderately positive skewed.\n",
    "- For `Survival Months`, it's autucally highly related to `Status` and is imbalanced to some extent. We may bin it to a binary feature. "
   ]
  },
  {
   "cell_type": "markdown",
   "id": "4be9cf1b",
   "metadata": {},
   "source": [
    "### 1.2 Univariate - categorical"
   ]
  },
  {
   "cell_type": "code",
   "execution_count": 17,
   "id": "b263bd10",
   "metadata": {},
   "outputs": [
    {
     "data": {
      "image/png": "[encoded data removed]",
      "text/plain": [
       "<Figure size 864x576 with 12 Axes>"
      ]
     },
     "metadata": {
      "needs_background": "light"
     },
     "output_type": "display_data"
    }
   ],
   "source": [
    "fig, axes = plt.subplots(4, 3, figsize=(12,8))\n",
    "axes = axes.flatten()\n",
    "\n",
    "for ax, col in zip(axes, df.select_dtypes('object').columns):\n",
    "    sns.countplot(y=col, data=df, ax=ax, order=df[col].value_counts().index)\n",
    "\n",
    "plt.tight_layout()\n",
    "plt.show()"
   ]
  },
  {
   "cell_type": "markdown",
   "id": "c9c98782",
   "metadata": {},
   "source": [
    "**NOTE from LYX**\n",
    "\n",
    "1. Most patients are white persons and got married.\n",
    "2. Most of their neoplasm has extended, which is regional.\n",
    "3. Most of their estrogen and progesterone status are positive.\n",
    "4. The target table is imbalanced, with odds ratio more than 1/5 (Dead/Alive). "
   ]
  },
  {
   "cell_type": "markdown",
   "id": "afed7c4b",
   "metadata": {},
   "source": [
    "### 1.3 Bivariate - correlation"
   ]
  },
  {
   "cell_type": "code",
   "execution_count": 18,
   "id": "194dbdf3",
   "metadata": {},
   "outputs": [
    {
     "data": {
      "image/png": "[encoded data removed]",
      "text/plain": [
       "<Figure size 800x500 with 2 Axes>"
      ]
     },
     "metadata": {
      "needs_background": "light"
     },
     "output_type": "display_data"
    }
   ],
   "source": [
    "plt.figure(figsize=(8,5), dpi=100)\n",
    "sns.heatmap(df.corr(), annot=True, cmap='crest')\n",
    "plt.title('Correlation matrix');"
   ]
  },
  {
   "cell_type": "markdown",
   "id": "02c43a28",
   "metadata": {},
   "source": [
    "**NOTE from LYX**\n",
    "\n",
    "We don't find any highly correlated features, so we will keep them all."
   ]
  },
  {
   "cell_type": "markdown",
   "id": "b8b1daeb",
   "metadata": {},
   "source": [
    "### 1.4 Bivariate - numerical vs Y"
   ]
  },
  {
   "cell_type": "code",
   "execution_count": 19,
   "id": "cf6b0777",
   "metadata": {},
   "outputs": [
    {
     "data": {
      "image/png": "[encoded data removed]",
      "text/plain": [
       "<Figure size 864x576 with 6 Axes>"
      ]
     },
     "metadata": {
      "needs_background": "light"
     },
     "output_type": "display_data"
    }
   ],
   "source": [
    "fig, axes = plt.subplots(2, 3, figsize=(12, 8))\n",
    "axes = axes.flatten()\n",
    "\n",
    "for ax, col in zip(axes, df.select_dtypes(exclude='object').columns):\n",
    "#     sns.histplot(data=df, x=col, hue='Status', ax=ax, multiple='stack', bins=20)\n",
    "    sns.boxplot(x='Status', y=col, data=df, ax=ax)\n",
    "    \n",
    "plt.tight_layout()\n",
    "plt.show()"
   ]
  },
  {
   "cell_type": "markdown",
   "id": "77185dce",
   "metadata": {},
   "source": [
    "**NOTE**\n",
    "\n",
    "The following features may good factors to predict patient `status`. \n",
    "\n",
    "- `Age`. Older patients are more likely to die, which makes sense.\n",
    "- `Tumor Size`. Patients with larger tumor sizr are more likely to die, which makes sense. \n",
    "- `Reginal Node Positive`. Patients with more regional lymph nodes containing metastases are more likely to die, which makes sense. \n",
    "- `Survival Months`. Patients with more survival time after diagnosis are more likely going to be alive, which makes sense."
   ]
  },
  {
   "cell_type": "markdown",
   "id": "50139409",
   "metadata": {},
   "source": [
    "### 1.5 Bivariate - categorical vs Y"
   ]
  },
  {
   "cell_type": "code",
   "execution_count": 20,
   "id": "7862fb3c",
   "metadata": {},
   "outputs": [
    {
     "data": {
      "image/png": "[encoded data removed]",
      "text/plain": [
       "<Figure size 864x576 with 9 Axes>"
      ]
     },
     "metadata": {
      "needs_background": "light"
     },
     "output_type": "display_data"
    }
   ],
   "source": [
    "fig, axes = plt.subplots(3, 3, figsize=(12, 8))\n",
    "axes = axes.flatten()\n",
    "\n",
    "for ax, col in zip(axes, df.select_dtypes('object').columns):\n",
    "    sns.countplot(y=col, hue='Status', data=df, ax=ax, order=df[col].value_counts().index)\n",
    "    \n",
    "plt.tight_layout()\n",
    "plt.show()"
   ]
  },
  {
   "cell_type": "markdown",
   "id": "bfaa8cb9",
   "metadata": {},
   "source": [
    "**NOTE**\n",
    "\n",
    "- For T, N, and 6th stage as well as grade, the higher/far the stage/grade is, the higher the probability to be dead.\n",
    "- For ER and PR, patients with ER- or PR- would get a higher probability to be dead. "
   ]
  },
  {
   "cell_type": "markdown",
   "id": "e97fc70f",
   "metadata": {},
   "source": [
    "## 2 Feature Engineering and Splitting"
   ]
  },
  {
   "cell_type": "markdown",
   "id": "d86aecb2",
   "metadata": {},
   "source": [
    "### 2.1 Feature generation"
   ]
  },
  {
   "cell_type": "code",
   "execution_count": 21,
   "id": "e204f7b4",
   "metadata": {},
   "outputs": [
    {
     "name": "stdout",
     "output_type": "stream",
     "text": [
      "p-value: 8.985264898991281e-248\n"
     ]
    }
   ],
   "source": [
    "df['Survival_bin'] = np.where(df['Survival Months']<42, 1, 0) # 1 means dangerous, 0 means not in danger\n",
    "\n",
    "contingency = pd.crosstab(df['Survival_bin'], df['Status'])\n",
    "\n",
    "# Chi-Square test\n",
    "chi2_stat, p_value, dof, expected = stats.chi2_contingency(contingency)\n",
    "print(\"p-value:\", p_value)"
   ]
  },
  {
   "cell_type": "code",
   "execution_count": 22,
   "id": "8b0ec1cc",
   "metadata": {},
   "outputs": [
    {
     "name": "stdout",
     "output_type": "stream",
     "text": [
      "p-value: 1.214203382078863e-53\n"
     ]
    }
   ],
   "source": [
    "df['Pos_exam_ratio'] = round(df['Reginol Node Positive'] / df['Regional Node Examined'], 2)\n",
    "\n",
    "# t-test\n",
    "t_stat, p_value = stats.ttest_ind(df.loc[df.Status=='Alive', 'Pos_exam_ratio'], \n",
    "                                       df.loc[df.Status=='Dead', 'Pos_exam_ratio'])\n",
    "print(\"p-value:\", p_value)"
   ]
  },
  {
   "cell_type": "markdown",
   "id": "77757772",
   "metadata": {},
   "source": [
    "### 2.2 Ordinal feature encoding"
   ]
  },
  {
   "cell_type": "code",
   "execution_count": 23,
   "id": "69d39496",
   "metadata": {},
   "outputs": [
    {
     "name": "stdout",
     "output_type": "stream",
     "text": [
      "Race ['Other' 'White' 'Black']\n",
      "Marital Status ['Married' 'Divorced' 'Single' 'Widowed' 'Separated']\n",
      "T Stage ['T2' 'T1' 'T3' 'T4']\n",
      "N Stage ['N3' 'N2' 'N1']\n",
      "6th Stage ['IIIC' 'IIIA' 'IIB' 'IIA' 'IIIB']\n",
      "Grade ['Grade II' 'Grade III' 'Grade I' 'Grade IV']\n",
      "A Stage ['Regional' 'Distant']\n",
      "Estrogen Status ['Positive' 'Negative']\n",
      "Progesterone Status ['Positive' 'Negative']\n",
      "Status ['Alive' 'Dead']\n"
     ]
    }
   ],
   "source": [
    "for i in df.select_dtypes('object').columns:\n",
    "    print(i, df[i].unique())"
   ]
  },
  {
   "cell_type": "code",
   "execution_count": 24,
   "id": "06f8a681",
   "metadata": {},
   "outputs": [],
   "source": [
    "ord_cols = ['T Stage', 'N Stage', '6th Stage', 'Grade']\n",
    "nom_cols = ['Race', 'Marital Status', 'A Stage', 'Estrogen Status', 'Progesterone Status']\n",
    "\n",
    "t_map = {'T1': 0, 'T2': 1, 'T3': 2, 'T4':3}\n",
    "n_map = {'N1': 0, 'N2': 1, 'N3': 2}\n",
    "stage6_map = {'IIA': 0, 'IIB': 1, 'IIIA': 2, 'IIIB':3, 'IIIC':4}\n",
    "grade_map = {'Grade I': 0, 'Grade II': 1, 'Grade III': 2, 'Grade IV':3}\n",
    "\n",
    "map_list = [t_map, n_map, stage6_map, grade_map]\n",
    "\n",
    "\n",
    "def ordinal_encoding(df, col_list, map_list):\n",
    "    '''\n",
    "    Encode ordinal categorical features into ordinal numerical values(0,1,2,3,,,) - instead one-hot encoding.\n",
    "    '''\n",
    "    df_copy = df.copy()\n",
    "    \n",
    "    for col, m in zip(col_list, map_list):\n",
    "        df_copy[col] = df_copy[col].map(m)\n",
    "        \n",
    "    return df_copy"
   ]
  },
  {
   "cell_type": "code",
   "execution_count": 25,
   "id": "bf52eb8b",
   "metadata": {},
   "outputs": [
    {
     "data": {
      "text/html": [
       "<div>\n",
       "<style scoped>\n",
       "    .dataframe tbody tr th:only-of-type {\n",
       "        vertical-align: middle;\n",
       "    }\n",
       "\n",
       "    .dataframe tbody tr th {\n",
       "        vertical-align: top;\n",
       "    }\n",
       "\n",
       "    .dataframe thead th {\n",
       "        text-align: right;\n",
       "    }\n",
       "</style>\n",
       "<table border=\"1\" class=\"dataframe\">\n",
       "  <thead>\n",
       "    <tr style=\"text-align: right;\">\n",
       "      <th></th>\n",
       "      <th>Age</th>\n",
       "      <th>Race</th>\n",
       "      <th>Marital Status</th>\n",
       "      <th>T Stage</th>\n",
       "      <th>N Stage</th>\n",
       "      <th>6th Stage</th>\n",
       "      <th>Grade</th>\n",
       "      <th>A Stage</th>\n",
       "      <th>Tumor Size</th>\n",
       "      <th>Estrogen Status</th>\n",
       "      <th>Progesterone Status</th>\n",
       "      <th>Regional Node Examined</th>\n",
       "      <th>Reginol Node Positive</th>\n",
       "      <th>Survival Months</th>\n",
       "      <th>Status</th>\n",
       "      <th>Survival_bin</th>\n",
       "      <th>Pos_exam_ratio</th>\n",
       "    </tr>\n",
       "  </thead>\n",
       "  <tbody>\n",
       "    <tr>\n",
       "      <th>0</th>\n",
       "      <td>43</td>\n",
       "      <td>Other</td>\n",
       "      <td>Married</td>\n",
       "      <td>1</td>\n",
       "      <td>2</td>\n",
       "      <td>4</td>\n",
       "      <td>1</td>\n",
       "      <td>Regional</td>\n",
       "      <td>40</td>\n",
       "      <td>Positive</td>\n",
       "      <td>Positive</td>\n",
       "      <td>19</td>\n",
       "      <td>11</td>\n",
       "      <td>1</td>\n",
       "      <td>Alive</td>\n",
       "      <td>1</td>\n",
       "      <td>0.58</td>\n",
       "    </tr>\n",
       "    <tr>\n",
       "      <th>1</th>\n",
       "      <td>47</td>\n",
       "      <td>Other</td>\n",
       "      <td>Married</td>\n",
       "      <td>1</td>\n",
       "      <td>1</td>\n",
       "      <td>2</td>\n",
       "      <td>1</td>\n",
       "      <td>Regional</td>\n",
       "      <td>45</td>\n",
       "      <td>Positive</td>\n",
       "      <td>Positive</td>\n",
       "      <td>25</td>\n",
       "      <td>9</td>\n",
       "      <td>2</td>\n",
       "      <td>Alive</td>\n",
       "      <td>1</td>\n",
       "      <td>0.36</td>\n",
       "    </tr>\n",
       "    <tr>\n",
       "      <th>2</th>\n",
       "      <td>67</td>\n",
       "      <td>White</td>\n",
       "      <td>Married</td>\n",
       "      <td>1</td>\n",
       "      <td>0</td>\n",
       "      <td>1</td>\n",
       "      <td>2</td>\n",
       "      <td>Regional</td>\n",
       "      <td>25</td>\n",
       "      <td>Positive</td>\n",
       "      <td>Positive</td>\n",
       "      <td>4</td>\n",
       "      <td>1</td>\n",
       "      <td>2</td>\n",
       "      <td>Dead</td>\n",
       "      <td>1</td>\n",
       "      <td>0.25</td>\n",
       "    </tr>\n",
       "    <tr>\n",
       "      <th>3</th>\n",
       "      <td>46</td>\n",
       "      <td>White</td>\n",
       "      <td>Divorced</td>\n",
       "      <td>0</td>\n",
       "      <td>0</td>\n",
       "      <td>0</td>\n",
       "      <td>1</td>\n",
       "      <td>Regional</td>\n",
       "      <td>19</td>\n",
       "      <td>Positive</td>\n",
       "      <td>Positive</td>\n",
       "      <td>26</td>\n",
       "      <td>1</td>\n",
       "      <td>2</td>\n",
       "      <td>Dead</td>\n",
       "      <td>1</td>\n",
       "      <td>0.04</td>\n",
       "    </tr>\n",
       "    <tr>\n",
       "      <th>4</th>\n",
       "      <td>63</td>\n",
       "      <td>White</td>\n",
       "      <td>Married</td>\n",
       "      <td>1</td>\n",
       "      <td>1</td>\n",
       "      <td>2</td>\n",
       "      <td>1</td>\n",
       "      <td>Regional</td>\n",
       "      <td>35</td>\n",
       "      <td>Positive</td>\n",
       "      <td>Positive</td>\n",
       "      <td>21</td>\n",
       "      <td>5</td>\n",
       "      <td>3</td>\n",
       "      <td>Dead</td>\n",
       "      <td>1</td>\n",
       "      <td>0.24</td>\n",
       "    </tr>\n",
       "  </tbody>\n",
       "</table>\n",
       "</div>"
      ],
      "text/plain": [
       "   Age   Race Marital Status  T Stage  N Stage  6th Stage  Grade   A Stage  \\\n",
       "0   43  Other        Married        1        2          4      1  Regional   \n",
       "1   47  Other        Married        1        1          2      1  Regional   \n",
       "2   67  White        Married        1        0          1      2  Regional   \n",
       "3   46  White       Divorced        0        0          0      1  Regional   \n",
       "4   63  White        Married        1        1          2      1  Regional   \n",
       "\n",
       "   Tumor Size Estrogen Status Progesterone Status  Regional Node Examined  \\\n",
       "0          40        Positive            Positive                      19   \n",
       "1          45        Positive            Positive                      25   \n",
       "2          25        Positive            Positive                       4   \n",
       "3          19        Positive            Positive                      26   \n",
       "4          35        Positive            Positive                      21   \n",
       "\n",
       "   Reginol Node Positive  Survival Months Status  Survival_bin  Pos_exam_ratio  \n",
       "0                     11                1  Alive             1            0.58  \n",
       "1                      9                2  Alive             1            0.36  \n",
       "2                      1                2   Dead             1            0.25  \n",
       "3                      1                2   Dead             1            0.04  \n",
       "4                      5                3   Dead             1            0.24  "
      ]
     },
     "execution_count": 25,
     "metadata": {},
     "output_type": "execute_result"
    }
   ],
   "source": [
    "df = ordinal_encoding(df, ord_cols, map_list)\n",
    "df.head()"
   ]
  },
  {
   "cell_type": "markdown",
   "id": "2a3c1eda",
   "metadata": {},
   "source": [
    "### 2.3 Nominal feature encoding "
   ]
  },
  {
   "cell_type": "code",
   "execution_count": 26,
   "id": "0304a621",
   "metadata": {},
   "outputs": [
    {
     "data": {
      "text/html": [
       "<div>\n",
       "<style scoped>\n",
       "    .dataframe tbody tr th:only-of-type {\n",
       "        vertical-align: middle;\n",
       "    }\n",
       "\n",
       "    .dataframe tbody tr th {\n",
       "        vertical-align: top;\n",
       "    }\n",
       "\n",
       "    .dataframe thead th {\n",
       "        text-align: right;\n",
       "    }\n",
       "</style>\n",
       "<table border=\"1\" class=\"dataframe\">\n",
       "  <thead>\n",
       "    <tr style=\"text-align: right;\">\n",
       "      <th></th>\n",
       "      <th>Age</th>\n",
       "      <th>T Stage</th>\n",
       "      <th>N Stage</th>\n",
       "      <th>6th Stage</th>\n",
       "      <th>Grade</th>\n",
       "      <th>Tumor Size</th>\n",
       "      <th>Regional Node Examined</th>\n",
       "      <th>Reginol Node Positive</th>\n",
       "      <th>Survival Months</th>\n",
       "      <th>Status</th>\n",
       "      <th>...</th>\n",
       "      <th>Pos_exam_ratio</th>\n",
       "      <th>Race_Other</th>\n",
       "      <th>Race_White</th>\n",
       "      <th>Marital Status_Married</th>\n",
       "      <th>Marital Status_Separated</th>\n",
       "      <th>Marital Status_Single</th>\n",
       "      <th>Marital Status_Widowed</th>\n",
       "      <th>A Stage_Regional</th>\n",
       "      <th>Estrogen Status_Positive</th>\n",
       "      <th>Progesterone Status_Positive</th>\n",
       "    </tr>\n",
       "  </thead>\n",
       "  <tbody>\n",
       "    <tr>\n",
       "      <th>0</th>\n",
       "      <td>43</td>\n",
       "      <td>1</td>\n",
       "      <td>2</td>\n",
       "      <td>4</td>\n",
       "      <td>1</td>\n",
       "      <td>40</td>\n",
       "      <td>19</td>\n",
       "      <td>11</td>\n",
       "      <td>1</td>\n",
       "      <td>Alive</td>\n",
       "      <td>...</td>\n",
       "      <td>0.58</td>\n",
       "      <td>1</td>\n",
       "      <td>0</td>\n",
       "      <td>1</td>\n",
       "      <td>0</td>\n",
       "      <td>0</td>\n",
       "      <td>0</td>\n",
       "      <td>1</td>\n",
       "      <td>1</td>\n",
       "      <td>1</td>\n",
       "    </tr>\n",
       "    <tr>\n",
       "      <th>1</th>\n",
       "      <td>47</td>\n",
       "      <td>1</td>\n",
       "      <td>1</td>\n",
       "      <td>2</td>\n",
       "      <td>1</td>\n",
       "      <td>45</td>\n",
       "      <td>25</td>\n",
       "      <td>9</td>\n",
       "      <td>2</td>\n",
       "      <td>Alive</td>\n",
       "      <td>...</td>\n",
       "      <td>0.36</td>\n",
       "      <td>1</td>\n",
       "      <td>0</td>\n",
       "      <td>1</td>\n",
       "      <td>0</td>\n",
       "      <td>0</td>\n",
       "      <td>0</td>\n",
       "      <td>1</td>\n",
       "      <td>1</td>\n",
       "      <td>1</td>\n",
       "    </tr>\n",
       "    <tr>\n",
       "      <th>2</th>\n",
       "      <td>67</td>\n",
       "      <td>1</td>\n",
       "      <td>0</td>\n",
       "      <td>1</td>\n",
       "      <td>2</td>\n",
       "      <td>25</td>\n",
       "      <td>4</td>\n",
       "      <td>1</td>\n",
       "      <td>2</td>\n",
       "      <td>Dead</td>\n",
       "      <td>...</td>\n",
       "      <td>0.25</td>\n",
       "      <td>0</td>\n",
       "      <td>1</td>\n",
       "      <td>1</td>\n",
       "      <td>0</td>\n",
       "      <td>0</td>\n",
       "      <td>0</td>\n",
       "      <td>1</td>\n",
       "      <td>1</td>\n",
       "      <td>1</td>\n",
       "    </tr>\n",
       "    <tr>\n",
       "      <th>3</th>\n",
       "      <td>46</td>\n",
       "      <td>0</td>\n",
       "      <td>0</td>\n",
       "      <td>0</td>\n",
       "      <td>1</td>\n",
       "      <td>19</td>\n",
       "      <td>26</td>\n",
       "      <td>1</td>\n",
       "      <td>2</td>\n",
       "      <td>Dead</td>\n",
       "      <td>...</td>\n",
       "      <td>0.04</td>\n",
       "      <td>0</td>\n",
       "      <td>1</td>\n",
       "      <td>0</td>\n",
       "      <td>0</td>\n",
       "      <td>0</td>\n",
       "      <td>0</td>\n",
       "      <td>1</td>\n",
       "      <td>1</td>\n",
       "      <td>1</td>\n",
       "    </tr>\n",
       "    <tr>\n",
       "      <th>4</th>\n",
       "      <td>63</td>\n",
       "      <td>1</td>\n",
       "      <td>1</td>\n",
       "      <td>2</td>\n",
       "      <td>1</td>\n",
       "      <td>35</td>\n",
       "      <td>21</td>\n",
       "      <td>5</td>\n",
       "      <td>3</td>\n",
       "      <td>Dead</td>\n",
       "      <td>...</td>\n",
       "      <td>0.24</td>\n",
       "      <td>0</td>\n",
       "      <td>1</td>\n",
       "      <td>1</td>\n",
       "      <td>0</td>\n",
       "      <td>0</td>\n",
       "      <td>0</td>\n",
       "      <td>1</td>\n",
       "      <td>1</td>\n",
       "      <td>1</td>\n",
       "    </tr>\n",
       "  </tbody>\n",
       "</table>\n",
       "<p>5 rows × 21 columns</p>\n",
       "</div>"
      ],
      "text/plain": [
       "   Age  T Stage  N Stage  6th Stage  Grade  Tumor Size  \\\n",
       "0   43        1        2          4      1          40   \n",
       "1   47        1        1          2      1          45   \n",
       "2   67        1        0          1      2          25   \n",
       "3   46        0        0          0      1          19   \n",
       "4   63        1        1          2      1          35   \n",
       "\n",
       "   Regional Node Examined  Reginol Node Positive  Survival Months Status  ...  \\\n",
       "0                      19                     11                1  Alive  ...   \n",
       "1                      25                      9                2  Alive  ...   \n",
       "2                       4                      1                2   Dead  ...   \n",
       "3                      26                      1                2   Dead  ...   \n",
       "4                      21                      5                3   Dead  ...   \n",
       "\n",
       "   Pos_exam_ratio  Race_Other  Race_White  Marital Status_Married  \\\n",
       "0            0.58           1           0                       1   \n",
       "1            0.36           1           0                       1   \n",
       "2            0.25           0           1                       1   \n",
       "3            0.04           0           1                       0   \n",
       "4            0.24           0           1                       1   \n",
       "\n",
       "   Marital Status_Separated  Marital Status_Single  Marital Status_Widowed  \\\n",
       "0                         0                      0                       0   \n",
       "1                         0                      0                       0   \n",
       "2                         0                      0                       0   \n",
       "3                         0                      0                       0   \n",
       "4                         0                      0                       0   \n",
       "\n",
       "   A Stage_Regional  Estrogen Status_Positive  Progesterone Status_Positive  \n",
       "0                 1                         1                             1  \n",
       "1                 1                         1                             1  \n",
       "2                 1                         1                             1  \n",
       "3                 1                         1                             1  \n",
       "4                 1                         1                             1  \n",
       "\n",
       "[5 rows x 21 columns]"
      ]
     },
     "execution_count": 26,
     "metadata": {},
     "output_type": "execute_result"
    }
   ],
   "source": [
    "df = pd.get_dummies(df, \n",
    "                   columns=['Race', 'Marital Status', 'A Stage', 'Estrogen Status', 'Progesterone Status'],\n",
    "                   drop_first=True)\n",
    "df.head()"
   ]
  },
  {
   "cell_type": "markdown",
   "id": "64d628fc",
   "metadata": {},
   "source": [
    "### 2.4 Splitting "
   ]
  },
  {
   "cell_type": "code",
   "execution_count": 27,
   "id": "71683d29",
   "metadata": {},
   "outputs": [],
   "source": [
    "X = df.drop(columns=\"Status\", axis=1)\n",
    "y = df[\"Status\"]"
   ]
  },
  {
   "cell_type": "code",
   "execution_count": 28,
   "id": "48fd6eb6",
   "metadata": {},
   "outputs": [
    {
     "data": {
      "text/plain": [
       "0    3407\n",
       "1     616\n",
       "Name: Status, dtype: int64"
      ]
     },
     "execution_count": 28,
     "metadata": {},
     "output_type": "execute_result"
    }
   ],
   "source": [
    "# label encoding\n",
    "class_map = {'Alive': 0, 'Dead': 1}\n",
    "y = y.map(class_map)\n",
    "y.value_counts()"
   ]
  },
  {
   "cell_type": "code",
   "execution_count": 29,
   "id": "262e3795",
   "metadata": {},
   "outputs": [],
   "source": [
    "X_train, X_test, y_train, y_test = train_test_split(X, y, test_size=0.2, stratify=y, random_state=RANDOM_SEED)"
   ]
  },
  {
   "cell_type": "markdown",
   "id": "04056124",
   "metadata": {},
   "source": [
    "### 2.5 Over sampling"
   ]
  },
  {
   "cell_type": "markdown",
   "id": "66a8ec94",
   "metadata": {},
   "source": [
    "**NOTE**\n",
    "\n",
    "As the class is imbalanced, over sampling is conducted."
   ]
  },
  {
   "cell_type": "code",
   "execution_count": 30,
   "id": "b2b0069c",
   "metadata": {},
   "outputs": [
    {
     "data": {
      "text/plain": [
       "0    2725\n",
       "1    2725\n",
       "Name: Status, dtype: int64"
      ]
     },
     "execution_count": 30,
     "metadata": {},
     "output_type": "execute_result"
    }
   ],
   "source": [
    "smote = SMOTE(random_state=RANDOM_SEED)\n",
    "X_train, y_train = smote.fit_resample(X_train, y_train)\n",
    "y_train.value_counts()"
   ]
  },
  {
   "cell_type": "code",
   "execution_count": 31,
   "id": "3589f6a5",
   "metadata": {},
   "outputs": [],
   "source": [
    "X_train_nosca = X_train.copy() # backup\n",
    "X_test_nosca = X_test.copy()"
   ]
  },
  {
   "cell_type": "markdown",
   "id": "de1bad73",
   "metadata": {},
   "source": [
    "### 2.6 Feature scaling"
   ]
  },
  {
   "cell_type": "code",
   "execution_count": 32,
   "id": "a3cf6b3f",
   "metadata": {},
   "outputs": [],
   "source": [
    "scaler_X = StandardScaler()\n",
    "X_train = scaler_X.fit_transform(X_train)\n",
    "X_test = scaler_X.transform(X_test)"
   ]
  },
  {
   "cell_type": "markdown",
   "id": "3dd02dc2",
   "metadata": {},
   "source": [
    "## 3 Modeling"
   ]
  },
  {
   "cell_type": "markdown",
   "id": "9f752f6d",
   "metadata": {},
   "source": [
    "### 3.1 Initial modeling "
   ]
  },
  {
   "cell_type": "code",
   "execution_count": 33,
   "id": "97f1f15d",
   "metadata": {},
   "outputs": [],
   "source": [
    "# Classifiers\n",
    "lr_clf = LogisticRegression(solver='saga', random_state=RANDOM_SEED)\n",
    "dt_clf = DecisionTreeClassifier(random_state=RANDOM_SEED)\n",
    "rf_clf = RandomForestClassifier(random_state=RANDOM_SEED)\n",
    "nb_clf = BernoulliNB()\n",
    "knn_clf = KNeighborsClassifier()\n",
    "lsvm_clf = LinearSVC(dual=False)\n",
    "svm_clf = SVC()\n",
    "\n",
    "# Parameters \n",
    "lr_params = dict(C=loguniform(1e-1, 1e2),penalty=['l1', 'l2'])\n",
    "dt_params = dict(criterion=['gini', 'entropy'],\n",
    "                 min_samples_split=[2, 4, 6, 8, 10, 12, 14, 16],\n",
    "                 max_depth=[2, 4, 6, 8, 10])\n",
    "rf_params = dict(n_estimators=[100, 150, 200],\n",
    "                criterion=['gini', 'entropy'],\n",
    "                max_depth=[2, 4, 6, 8, 10],\n",
    "                min_samples_split=[2, 4, 6, 8, 10, 12, 14, 16])\n",
    "nb_params = dict(alpha=loguniform(1e-1, 1e2))\n",
    "knn_params = dict(n_neighbors=[2, 4, 6, 8, 10, 12],\n",
    "               weights=['uniform', 'distance'])\n",
    "lsvm_params = dict(C=loguniform(1e-1, 1e2))\n",
    "svm_params = dict(C=loguniform(1e-1, 1e2))\n",
    "\n",
    "clf_list = [lr_clf, dt_clf, rf_clf, nb_clf, knn_clf, lsvm_clf, svm_clf]\n",
    "params_list = [lr_params, dt_params, rf_params, nb_params, knn_params, lsvm_params, svm_params]\n",
    "model_suffix = ['_lr', '_dt', '_rf', '_nb', '_knn', '_lsvm', '_svm']\n",
    "model_names = ['Logistic Regression', 'Decison Tree', 'Random Forest', 'Bernoulli Naive Bayes',\n",
    "               'KNN Classifier', 'Linear SVM', 'SVM']"
   ]
  },
  {
   "cell_type": "code",
   "execution_count": 34,
   "id": "d1bcb292",
   "metadata": {},
   "outputs": [],
   "source": [
    "def train_model_rscv(X_train, y_train, model_suffix=model_suffix, clf_list=clf_list, params_list=params_list):\n",
    "    for i in range(len(clf_list)):\n",
    "        # train model with RandomizedSearchCV\n",
    "        rscv = RandomizedSearchCV(estimator=clf_list[i],\n",
    "                                  param_distributions=params_list[i],\n",
    "                                  cv=10, n_jobs=-1, scoring='roc_auc', random_state=RANDOM_SEED)\n",
    "        rscv.fit(X_train, y_train)\n",
    "        # store cv results\n",
    "        globals()['rscv%s' % model_suffix[i]] = pd.DataFrame(rscv.cv_results_)\n",
    "        # store best parameters from cv\n",
    "        globals()['params%s' % model_suffix[i]] = pd.DataFrame(rscv.best_params_, index=[0])\n",
    "        # store best model from cv\n",
    "        globals()['best%s' % model_suffix[i]] = rscv"
   ]
  },
  {
   "cell_type": "code",
   "execution_count": 35,
   "id": "18a08422",
   "metadata": {},
   "outputs": [],
   "source": [
    "def eval_model(X_test, y_test, clf_list, model_names):\n",
    "    acc = []\n",
    "    f1 = []\n",
    "    precision = []\n",
    "    recall = []\n",
    "    auc = []\n",
    "\n",
    "    for clf in clf_list:\n",
    "        y_pred = clf.predict(X_test)\n",
    "        acc.append(accuracy_score(y_test, y_pred))\n",
    "        f1.append(f1_score(y_test, y_pred, pos_label=1, average=None)[1])\n",
    "        precision.append(precision_score(y_test, y_pred, pos_label=1, average=None)[1])\n",
    "        recall.append(recall_score(y_test, y_pred, pos_label=1, average=None)[1])\n",
    "        auc.append(roc_auc_score(y_test, y_pred))\n",
    "\n",
    "    return pd.DataFrame(data={'Model': model_names, 'Accuracy': acc, 'F1_score': f1, 'Precision':precision,\n",
    "                             'Recall': recall, \"AUC\": auc})"
   ]
  },
  {
   "cell_type": "code",
   "execution_count": 36,
   "id": "351ed204",
   "metadata": {},
   "outputs": [],
   "source": [
    "# train models\n",
    "train_model_rscv(X_train, y_train)\n",
    "best_clfs = [best_lr, best_dt, best_rf, best_nb, best_knn, best_lsvm, best_svm]"
   ]
  },
  {
   "cell_type": "code",
   "execution_count": 37,
   "id": "d63ecbf8",
   "metadata": {},
   "outputs": [],
   "source": [
    "# evaluate results\n",
    "perf_table = eval_model(X_test, y_test, best_clfs, model_names)"
   ]
  },
  {
   "cell_type": "markdown",
   "id": "6d7df1fe",
   "metadata": {},
   "source": [
    "### Baseline model "
   ]
  },
  {
   "cell_type": "code",
   "execution_count": 38,
   "id": "29580d51",
   "metadata": {},
   "outputs": [],
   "source": [
    "def baseline_model(cutoff=0.6, y_test=y_test):\n",
    "    \"\"\"\n",
    "    Baseline model for binary classification\n",
    "\n",
    "    cutoff : Probability of predicting class 1\n",
    "\n",
    "    \"\"\"\n",
    "    model_name = 'Baseline'\n",
    "    y_pred = [1 if random.random() < cutoff else 0 for _ in range(len(y_test))]\n",
    "    \n",
    "    acc = accuracy_score(y_test, y_pred)\n",
    "    f1 = f1_score(y_test, y_pred, pos_label=1, average=None)[1]\n",
    "    precision = precision_score(y_test, y_pred, pos_label=1, average=None)[1]\n",
    "    recall = recall_score(y_test, y_pred, pos_label=1, average=None)[1]\n",
    "    auc = roc_auc_score(y_test, y_pred)\n",
    "    \n",
    "\n",
    "    return pd.DataFrame(data={'Model': model_name, \n",
    "                              'Accuracy': acc, \n",
    "                              'F1_score': f1, \n",
    "                              'Precision':precision,\n",
    "                              'Recall': recall, \n",
    "                              'AUC': auc}, index=[0])"
   ]
  },
  {
   "cell_type": "code",
   "execution_count": 39,
   "id": "09288a94",
   "metadata": {},
   "outputs": [
    {
     "data": {
      "text/plain": [
       "0.15311956251553566"
      ]
     },
     "execution_count": 39,
     "metadata": {},
     "output_type": "execute_result"
    }
   ],
   "source": [
    "counts = df['Status'].value_counts()\n",
    "counts[1] / (counts[0] + counts[1])"
   ]
  },
  {
   "cell_type": "code",
   "execution_count": 40,
   "id": "32052037",
   "metadata": {},
   "outputs": [
    {
     "data": {
      "text/html": [
       "<div>\n",
       "<style scoped>\n",
       "    .dataframe tbody tr th:only-of-type {\n",
       "        vertical-align: middle;\n",
       "    }\n",
       "\n",
       "    .dataframe tbody tr th {\n",
       "        vertical-align: top;\n",
       "    }\n",
       "\n",
       "    .dataframe thead th {\n",
       "        text-align: right;\n",
       "    }\n",
       "</style>\n",
       "<table border=\"1\" class=\"dataframe\">\n",
       "  <thead>\n",
       "    <tr style=\"text-align: right;\">\n",
       "      <th></th>\n",
       "      <th>Model</th>\n",
       "      <th>Accuracy</th>\n",
       "      <th>F1_score</th>\n",
       "      <th>Precision</th>\n",
       "      <th>Recall</th>\n",
       "      <th>AUC</th>\n",
       "    </tr>\n",
       "  </thead>\n",
       "  <tbody>\n",
       "    <tr>\n",
       "      <th>0</th>\n",
       "      <td>Logistic Regression</td>\n",
       "      <td>0.843478</td>\n",
       "      <td>0.536765</td>\n",
       "      <td>0.489933</td>\n",
       "      <td>0.593496</td>\n",
       "      <td>0.741029</td>\n",
       "    </tr>\n",
       "    <tr>\n",
       "      <th>1</th>\n",
       "      <td>Decison Tree</td>\n",
       "      <td>0.824845</td>\n",
       "      <td>0.505263</td>\n",
       "      <td>0.444444</td>\n",
       "      <td>0.585366</td>\n",
       "      <td>0.726701</td>\n",
       "    </tr>\n",
       "    <tr>\n",
       "      <th>2</th>\n",
       "      <td>Random Forest</td>\n",
       "      <td>0.891925</td>\n",
       "      <td>0.639004</td>\n",
       "      <td>0.652542</td>\n",
       "      <td>0.626016</td>\n",
       "      <td>0.782949</td>\n",
       "    </tr>\n",
       "    <tr>\n",
       "      <th>3</th>\n",
       "      <td>Bernoulli Naive Bayes</td>\n",
       "      <td>0.814907</td>\n",
       "      <td>0.517799</td>\n",
       "      <td>0.430108</td>\n",
       "      <td>0.650407</td>\n",
       "      <td>0.747491</td>\n",
       "    </tr>\n",
       "    <tr>\n",
       "      <th>4</th>\n",
       "      <td>KNN Classifier</td>\n",
       "      <td>0.827329</td>\n",
       "      <td>0.494545</td>\n",
       "      <td>0.447368</td>\n",
       "      <td>0.552846</td>\n",
       "      <td>0.714839</td>\n",
       "    </tr>\n",
       "    <tr>\n",
       "      <th>5</th>\n",
       "      <td>Linear SVM</td>\n",
       "      <td>0.842236</td>\n",
       "      <td>0.534799</td>\n",
       "      <td>0.486667</td>\n",
       "      <td>0.593496</td>\n",
       "      <td>0.740296</td>\n",
       "    </tr>\n",
       "    <tr>\n",
       "      <th>6</th>\n",
       "      <td>SVM</td>\n",
       "      <td>0.865839</td>\n",
       "      <td>0.564516</td>\n",
       "      <td>0.560000</td>\n",
       "      <td>0.569106</td>\n",
       "      <td>0.744230</td>\n",
       "    </tr>\n",
       "    <tr>\n",
       "      <th>0</th>\n",
       "      <td>Baseline</td>\n",
       "      <td>0.739130</td>\n",
       "      <td>0.117647</td>\n",
       "      <td>0.121739</td>\n",
       "      <td>0.113821</td>\n",
       "      <td>0.482864</td>\n",
       "    </tr>\n",
       "  </tbody>\n",
       "</table>\n",
       "</div>"
      ],
      "text/plain": [
       "                   Model  Accuracy  F1_score  Precision    Recall       AUC\n",
       "0    Logistic Regression  0.843478  0.536765   0.489933  0.593496  0.741029\n",
       "1           Decison Tree  0.824845  0.505263   0.444444  0.585366  0.726701\n",
       "2          Random Forest  0.891925  0.639004   0.652542  0.626016  0.782949\n",
       "3  Bernoulli Naive Bayes  0.814907  0.517799   0.430108  0.650407  0.747491\n",
       "4         KNN Classifier  0.827329  0.494545   0.447368  0.552846  0.714839\n",
       "5             Linear SVM  0.842236  0.534799   0.486667  0.593496  0.740296\n",
       "6                    SVM  0.865839  0.564516   0.560000  0.569106  0.744230\n",
       "0               Baseline  0.739130  0.117647   0.121739  0.113821  0.482864"
      ]
     },
     "execution_count": 40,
     "metadata": {},
     "output_type": "execute_result"
    }
   ],
   "source": [
    "# baseline model - for any patient, the probability of being dead is 0.15 based on the distritution if classes\n",
    "baseline = baseline_model(cutoff=0.15, y_test=y_test) \n",
    "perf_table = pd.concat([perf_table, baseline])\n",
    "perf_table"
   ]
  },
  {
   "cell_type": "markdown",
   "id": "a3cea91b",
   "metadata": {},
   "source": [
    "**NOTE**\n",
    "\n",
    "1. Performance of all models is better than the random choiced base line model, which means the machine learning methods are effective. \n",
    "2. Generally, random forest performs the best (with the highest AUC, highest F1), so this would be the model to be recommended for prediction. \n",
    "3. Considering the interpretation of models, in the following stage, we'll firstly use logistic regression to better understand the relations between features and target, which will then be used to optimize other advanced models (like random forest) to get better prediction performance."
   ]
  },
  {
   "cell_type": "markdown",
   "id": "d2456ee3",
   "metadata": {},
   "source": [
    "### 3.2 Logistic regresison "
   ]
  },
  {
   "cell_type": "markdown",
   "id": "c79df440",
   "metadata": {},
   "source": [
    "**NOTE**\n",
    "\n",
    "To do feature selection and understand the influece of each feature, we introduce statsmodels."
   ]
  },
  {
   "cell_type": "code",
   "execution_count": 41,
   "id": "37614814",
   "metadata": {},
   "outputs": [
    {
     "name": "stdout",
     "output_type": "stream",
     "text": [
      "Optimization terminated successfully.\n",
      "         Current function value: 0.347446\n",
      "         Iterations 8\n"
     ]
    },
    {
     "data": {
      "text/html": [
       "<table class=\"simpletable\">\n",
       "<caption>Logit Regression Results</caption>\n",
       "<tr>\n",
       "  <th>Dep. Variable:</th>        <td>Status</td>      <th>  No. Observations:  </th>  <td>  5450</td> \n",
       "</tr>\n",
       "<tr>\n",
       "  <th>Model:</th>                 <td>Logit</td>      <th>  Df Residuals:      </th>  <td>  5429</td> \n",
       "</tr>\n",
       "<tr>\n",
       "  <th>Method:</th>                 <td>MLE</td>       <th>  Df Model:          </th>  <td>    20</td> \n",
       "</tr>\n",
       "<tr>\n",
       "  <th>Date:</th>            <td>Tue, 04 Apr 2023</td> <th>  Pseudo R-squ.:     </th>  <td>0.4987</td> \n",
       "</tr>\n",
       "<tr>\n",
       "  <th>Time:</th>                <td>23:10:39</td>     <th>  Log-Likelihood:    </th> <td> -1893.6</td>\n",
       "</tr>\n",
       "<tr>\n",
       "  <th>converged:</th>             <td>True</td>       <th>  LL-Null:           </th> <td> -3777.7</td>\n",
       "</tr>\n",
       "<tr>\n",
       "  <th>Covariance Type:</th>     <td>nonrobust</td>    <th>  LLR p-value:       </th>  <td> 0.000</td> \n",
       "</tr>\n",
       "</table>\n",
       "<table class=\"simpletable\">\n",
       "<tr>\n",
       "                <td></td>                  <th>coef</th>     <th>std err</th>      <th>z</th>      <th>P>|z|</th>  <th>[0.025</th>    <th>0.975]</th>  \n",
       "</tr>\n",
       "<tr>\n",
       "  <th>const</th>                        <td>    6.5094</td> <td>    0.480</td> <td>   13.557</td> <td> 0.000</td> <td>    5.568</td> <td>    7.450</td>\n",
       "</tr>\n",
       "<tr>\n",
       "  <th>Age</th>                          <td>    0.0149</td> <td>    0.005</td> <td>    3.040</td> <td> 0.002</td> <td>    0.005</td> <td>    0.024</td>\n",
       "</tr>\n",
       "<tr>\n",
       "  <th>T Stage</th>                      <td>   -0.1362</td> <td>    0.117</td> <td>   -1.160</td> <td> 0.246</td> <td>   -0.366</td> <td>    0.094</td>\n",
       "</tr>\n",
       "<tr>\n",
       "  <th>N Stage</th>                      <td>   -1.0291</td> <td>    0.170</td> <td>   -6.067</td> <td> 0.000</td> <td>   -1.362</td> <td>   -0.697</td>\n",
       "</tr>\n",
       "<tr>\n",
       "  <th>6th Stage</th>                    <td>    0.3405</td> <td>    0.109</td> <td>    3.113</td> <td> 0.002</td> <td>    0.126</td> <td>    0.555</td>\n",
       "</tr>\n",
       "<tr>\n",
       "  <th>Grade</th>                        <td>   -0.0390</td> <td>    0.070</td> <td>   -0.557</td> <td> 0.578</td> <td>   -0.176</td> <td>    0.098</td>\n",
       "</tr>\n",
       "<tr>\n",
       "  <th>Tumor Size</th>                   <td>    0.0051</td> <td>    0.003</td> <td>    1.618</td> <td> 0.106</td> <td>   -0.001</td> <td>    0.011</td>\n",
       "</tr>\n",
       "<tr>\n",
       "  <th>Regional Node Examined</th>       <td>   -0.0167</td> <td>    0.009</td> <td>   -1.814</td> <td> 0.070</td> <td>   -0.035</td> <td>    0.001</td>\n",
       "</tr>\n",
       "<tr>\n",
       "  <th>Reginol Node Positive</th>        <td>    0.0791</td> <td>    0.020</td> <td>    3.975</td> <td> 0.000</td> <td>    0.040</td> <td>    0.118</td>\n",
       "</tr>\n",
       "<tr>\n",
       "  <th>Survival Months</th>              <td>   -0.0501</td> <td>    0.003</td> <td>  -19.411</td> <td> 0.000</td> <td>   -0.055</td> <td>   -0.045</td>\n",
       "</tr>\n",
       "<tr>\n",
       "  <th>Survival_bin</th>                 <td>    0.9173</td> <td>    0.174</td> <td>    5.275</td> <td> 0.000</td> <td>    0.577</td> <td>    1.258</td>\n",
       "</tr>\n",
       "<tr>\n",
       "  <th>Pos_exam_ratio</th>               <td>    1.8299</td> <td>    0.281</td> <td>    6.519</td> <td> 0.000</td> <td>    1.280</td> <td>    2.380</td>\n",
       "</tr>\n",
       "<tr>\n",
       "  <th>Race_Other</th>                   <td>   -3.2587</td> <td>    0.272</td> <td>  -11.973</td> <td> 0.000</td> <td>   -3.792</td> <td>   -2.725</td>\n",
       "</tr>\n",
       "<tr>\n",
       "  <th>Race_White</th>                   <td>   -1.7195</td> <td>    0.126</td> <td>  -13.683</td> <td> 0.000</td> <td>   -1.966</td> <td>   -1.473</td>\n",
       "</tr>\n",
       "<tr>\n",
       "  <th>Marital Status_Married</th>       <td>   -1.7269</td> <td>    0.097</td> <td>  -17.885</td> <td> 0.000</td> <td>   -1.916</td> <td>   -1.538</td>\n",
       "</tr>\n",
       "<tr>\n",
       "  <th>Marital Status_Separated</th>     <td>   -2.6892</td> <td>    0.529</td> <td>   -5.083</td> <td> 0.000</td> <td>   -3.726</td> <td>   -1.652</td>\n",
       "</tr>\n",
       "<tr>\n",
       "  <th>Marital Status_Single</th>        <td>   -2.7757</td> <td>    0.165</td> <td>  -16.857</td> <td> 0.000</td> <td>   -3.098</td> <td>   -2.453</td>\n",
       "</tr>\n",
       "<tr>\n",
       "  <th>Marital Status_Widowed</th>       <td>   -2.8205</td> <td>    0.243</td> <td>  -11.614</td> <td> 0.000</td> <td>   -3.296</td> <td>   -2.344</td>\n",
       "</tr>\n",
       "<tr>\n",
       "  <th>A Stage_Regional</th>             <td>   -0.9792</td> <td>    0.224</td> <td>   -4.372</td> <td> 0.000</td> <td>   -1.418</td> <td>   -0.540</td>\n",
       "</tr>\n",
       "<tr>\n",
       "  <th>Estrogen Status_Positive</th>     <td>   -0.6574</td> <td>    0.170</td> <td>   -3.866</td> <td> 0.000</td> <td>   -0.991</td> <td>   -0.324</td>\n",
       "</tr>\n",
       "<tr>\n",
       "  <th>Progesterone Status_Positive</th> <td>   -1.0585</td> <td>    0.106</td> <td>   -9.983</td> <td> 0.000</td> <td>   -1.266</td> <td>   -0.851</td>\n",
       "</tr>\n",
       "</table>"
      ],
      "text/plain": [
       "<class 'statsmodels.iolib.summary.Summary'>\n",
       "\"\"\"\n",
       "                           Logit Regression Results                           \n",
       "==============================================================================\n",
       "Dep. Variable:                 Status   No. Observations:                 5450\n",
       "Model:                          Logit   Df Residuals:                     5429\n",
       "Method:                           MLE   Df Model:                           20\n",
       "Date:                Tue, 04 Apr 2023   Pseudo R-squ.:                  0.4987\n",
       "Time:                        23:10:39   Log-Likelihood:                -1893.6\n",
       "converged:                       True   LL-Null:                       -3777.7\n",
       "Covariance Type:            nonrobust   LLR p-value:                     0.000\n",
       "================================================================================================\n",
       "                                   coef    std err          z      P>|z|      [0.025      0.975]\n",
       "------------------------------------------------------------------------------------------------\n",
       "const                            6.5094      0.480     13.557      0.000       5.568       7.450\n",
       "Age                              0.0149      0.005      3.040      0.002       0.005       0.024\n",
       "T Stage                         -0.1362      0.117     -1.160      0.246      -0.366       0.094\n",
       "N Stage                         -1.0291      0.170     -6.067      0.000      -1.362      -0.697\n",
       "6th Stage                        0.3405      0.109      3.113      0.002       0.126       0.555\n",
       "Grade                           -0.0390      0.070     -0.557      0.578      -0.176       0.098\n",
       "Tumor Size                       0.0051      0.003      1.618      0.106      -0.001       0.011\n",
       "Regional Node Examined          -0.0167      0.009     -1.814      0.070      -0.035       0.001\n",
       "Reginol Node Positive            0.0791      0.020      3.975      0.000       0.040       0.118\n",
       "Survival Months                 -0.0501      0.003    -19.411      0.000      -0.055      -0.045\n",
       "Survival_bin                     0.9173      0.174      5.275      0.000       0.577       1.258\n",
       "Pos_exam_ratio                   1.8299      0.281      6.519      0.000       1.280       2.380\n",
       "Race_Other                      -3.2587      0.272    -11.973      0.000      -3.792      -2.725\n",
       "Race_White                      -1.7195      0.126    -13.683      0.000      -1.966      -1.473\n",
       "Marital Status_Married          -1.7269      0.097    -17.885      0.000      -1.916      -1.538\n",
       "Marital Status_Separated        -2.6892      0.529     -5.083      0.000      -3.726      -1.652\n",
       "Marital Status_Single           -2.7757      0.165    -16.857      0.000      -3.098      -2.453\n",
       "Marital Status_Widowed          -2.8205      0.243    -11.614      0.000      -3.296      -2.344\n",
       "A Stage_Regional                -0.9792      0.224     -4.372      0.000      -1.418      -0.540\n",
       "Estrogen Status_Positive        -0.6574      0.170     -3.866      0.000      -0.991      -0.324\n",
       "Progesterone Status_Positive    -1.0585      0.106     -9.983      0.000      -1.266      -0.851\n",
       "================================================================================================\n",
       "\"\"\""
      ]
     },
     "execution_count": 41,
     "metadata": {},
     "output_type": "execute_result"
    }
   ],
   "source": [
    "import statsmodels.api as sm\n",
    "\n",
    "X_train_ols = sm.add_constant(X_train_nosca)\n",
    "ols_clf = sm.Logit(y_train, X_train_ols)\n",
    "\n",
    "ols = ols_clf.fit()\n",
    "ols.summary()"
   ]
  },
  {
   "cell_type": "code",
   "execution_count": 42,
   "id": "50297329",
   "metadata": {},
   "outputs": [
    {
     "name": "stdout",
     "output_type": "stream",
     "text": [
      "Optimization terminated successfully.\n",
      "         Current function value: 0.347606\n",
      "         Iterations 8\n"
     ]
    },
    {
     "data": {
      "text/html": [
       "<table class=\"simpletable\">\n",
       "<caption>Logit Regression Results</caption>\n",
       "<tr>\n",
       "  <th>Dep. Variable:</th>        <td>Status</td>      <th>  No. Observations:  </th>  <td>  5450</td> \n",
       "</tr>\n",
       "<tr>\n",
       "  <th>Model:</th>                 <td>Logit</td>      <th>  Df Residuals:      </th>  <td>  5431</td> \n",
       "</tr>\n",
       "<tr>\n",
       "  <th>Method:</th>                 <td>MLE</td>       <th>  Df Model:          </th>  <td>    18</td> \n",
       "</tr>\n",
       "<tr>\n",
       "  <th>Date:</th>            <td>Tue, 04 Apr 2023</td> <th>  Pseudo R-squ.:     </th>  <td>0.4985</td> \n",
       "</tr>\n",
       "<tr>\n",
       "  <th>Time:</th>                <td>23:10:54</td>     <th>  Log-Likelihood:    </th> <td> -1894.5</td>\n",
       "</tr>\n",
       "<tr>\n",
       "  <th>converged:</th>             <td>True</td>       <th>  LL-Null:           </th> <td> -3777.7</td>\n",
       "</tr>\n",
       "<tr>\n",
       "  <th>Covariance Type:</th>     <td>nonrobust</td>    <th>  LLR p-value:       </th>  <td> 0.000</td> \n",
       "</tr>\n",
       "</table>\n",
       "<table class=\"simpletable\">\n",
       "<tr>\n",
       "                <td></td>                  <th>coef</th>     <th>std err</th>      <th>z</th>      <th>P>|z|</th>  <th>[0.025</th>    <th>0.975]</th>  \n",
       "</tr>\n",
       "<tr>\n",
       "  <th>const</th>                        <td>    6.4610</td> <td>    0.464</td> <td>   13.928</td> <td> 0.000</td> <td>    5.552</td> <td>    7.370</td>\n",
       "</tr>\n",
       "<tr>\n",
       "  <th>Age</th>                          <td>    0.0152</td> <td>    0.005</td> <td>    3.135</td> <td> 0.002</td> <td>    0.006</td> <td>    0.025</td>\n",
       "</tr>\n",
       "<tr>\n",
       "  <th>N Stage</th>                      <td>   -0.9325</td> <td>    0.147</td> <td>   -6.326</td> <td> 0.000</td> <td>   -1.221</td> <td>   -0.644</td>\n",
       "</tr>\n",
       "<tr>\n",
       "  <th>6th Stage</th>                    <td>    0.2575</td> <td>    0.085</td> <td>    3.037</td> <td> 0.002</td> <td>    0.091</td> <td>    0.424</td>\n",
       "</tr>\n",
       "<tr>\n",
       "  <th>Tumor Size</th>                   <td>    0.0026</td> <td>    0.002</td> <td>    1.131</td> <td> 0.258</td> <td>   -0.002</td> <td>    0.007</td>\n",
       "</tr>\n",
       "<tr>\n",
       "  <th>Regional Node Examined</th>       <td>   -0.0169</td> <td>    0.009</td> <td>   -1.837</td> <td> 0.066</td> <td>   -0.035</td> <td>    0.001</td>\n",
       "</tr>\n",
       "<tr>\n",
       "  <th>Reginol Node Positive</th>        <td>    0.0816</td> <td>    0.020</td> <td>    4.122</td> <td> 0.000</td> <td>    0.043</td> <td>    0.120</td>\n",
       "</tr>\n",
       "<tr>\n",
       "  <th>Survival Months</th>              <td>   -0.0503</td> <td>    0.003</td> <td>  -19.545</td> <td> 0.000</td> <td>   -0.055</td> <td>   -0.045</td>\n",
       "</tr>\n",
       "<tr>\n",
       "  <th>Survival_bin</th>                 <td>    0.9082</td> <td>    0.174</td> <td>    5.228</td> <td> 0.000</td> <td>    0.568</td> <td>    1.249</td>\n",
       "</tr>\n",
       "<tr>\n",
       "  <th>Pos_exam_ratio</th>               <td>    1.8279</td> <td>    0.281</td> <td>    6.510</td> <td> 0.000</td> <td>    1.278</td> <td>    2.378</td>\n",
       "</tr>\n",
       "<tr>\n",
       "  <th>Race_Other</th>                   <td>   -3.2541</td> <td>    0.272</td> <td>  -11.968</td> <td> 0.000</td> <td>   -3.787</td> <td>   -2.721</td>\n",
       "</tr>\n",
       "<tr>\n",
       "  <th>Race_White</th>                   <td>   -1.7191</td> <td>    0.126</td> <td>  -13.679</td> <td> 0.000</td> <td>   -1.965</td> <td>   -1.473</td>\n",
       "</tr>\n",
       "<tr>\n",
       "  <th>Marital Status_Married</th>       <td>   -1.7317</td> <td>    0.096</td> <td>  -17.976</td> <td> 0.000</td> <td>   -1.920</td> <td>   -1.543</td>\n",
       "</tr>\n",
       "<tr>\n",
       "  <th>Marital Status_Separated</th>     <td>   -2.6909</td> <td>    0.531</td> <td>   -5.069</td> <td> 0.000</td> <td>   -3.731</td> <td>   -1.650</td>\n",
       "</tr>\n",
       "<tr>\n",
       "  <th>Marital Status_Single</th>        <td>   -2.7844</td> <td>    0.164</td> <td>  -16.927</td> <td> 0.000</td> <td>   -3.107</td> <td>   -2.462</td>\n",
       "</tr>\n",
       "<tr>\n",
       "  <th>Marital Status_Widowed</th>       <td>   -2.8302</td> <td>    0.243</td> <td>  -11.635</td> <td> 0.000</td> <td>   -3.307</td> <td>   -2.353</td>\n",
       "</tr>\n",
       "<tr>\n",
       "  <th>A Stage_Regional</th>             <td>   -0.9552</td> <td>    0.222</td> <td>   -4.311</td> <td> 0.000</td> <td>   -1.389</td> <td>   -0.521</td>\n",
       "</tr>\n",
       "<tr>\n",
       "  <th>Estrogen Status_Positive</th>     <td>   -0.6461</td> <td>    0.168</td> <td>   -3.840</td> <td> 0.000</td> <td>   -0.976</td> <td>   -0.316</td>\n",
       "</tr>\n",
       "<tr>\n",
       "  <th>Progesterone Status_Positive</th> <td>   -1.0533</td> <td>    0.106</td> <td>   -9.943</td> <td> 0.000</td> <td>   -1.261</td> <td>   -0.846</td>\n",
       "</tr>\n",
       "</table>"
      ],
      "text/plain": [
       "<class 'statsmodels.iolib.summary.Summary'>\n",
       "\"\"\"\n",
       "                           Logit Regression Results                           \n",
       "==============================================================================\n",
       "Dep. Variable:                 Status   No. Observations:                 5450\n",
       "Model:                          Logit   Df Residuals:                     5431\n",
       "Method:                           MLE   Df Model:                           18\n",
       "Date:                Tue, 04 Apr 2023   Pseudo R-squ.:                  0.4985\n",
       "Time:                        23:10:54   Log-Likelihood:                -1894.5\n",
       "converged:                       True   LL-Null:                       -3777.7\n",
       "Covariance Type:            nonrobust   LLR p-value:                     0.000\n",
       "================================================================================================\n",
       "                                   coef    std err          z      P>|z|      [0.025      0.975]\n",
       "------------------------------------------------------------------------------------------------\n",
       "const                            6.4610      0.464     13.928      0.000       5.552       7.370\n",
       "Age                              0.0152      0.005      3.135      0.002       0.006       0.025\n",
       "N Stage                         -0.9325      0.147     -6.326      0.000      -1.221      -0.644\n",
       "6th Stage                        0.2575      0.085      3.037      0.002       0.091       0.424\n",
       "Tumor Size                       0.0026      0.002      1.131      0.258      -0.002       0.007\n",
       "Regional Node Examined          -0.0169      0.009     -1.837      0.066      -0.035       0.001\n",
       "Reginol Node Positive            0.0816      0.020      4.122      0.000       0.043       0.120\n",
       "Survival Months                 -0.0503      0.003    -19.545      0.000      -0.055      -0.045\n",
       "Survival_bin                     0.9082      0.174      5.228      0.000       0.568       1.249\n",
       "Pos_exam_ratio                   1.8279      0.281      6.510      0.000       1.278       2.378\n",
       "Race_Other                      -3.2541      0.272    -11.968      0.000      -3.787      -2.721\n",
       "Race_White                      -1.7191      0.126    -13.679      0.000      -1.965      -1.473\n",
       "Marital Status_Married          -1.7317      0.096    -17.976      0.000      -1.920      -1.543\n",
       "Marital Status_Separated        -2.6909      0.531     -5.069      0.000      -3.731      -1.650\n",
       "Marital Status_Single           -2.7844      0.164    -16.927      0.000      -3.107      -2.462\n",
       "Marital Status_Widowed          -2.8302      0.243    -11.635      0.000      -3.307      -2.353\n",
       "A Stage_Regional                -0.9552      0.222     -4.311      0.000      -1.389      -0.521\n",
       "Estrogen Status_Positive        -0.6461      0.168     -3.840      0.000      -0.976      -0.316\n",
       "Progesterone Status_Positive    -1.0533      0.106     -9.943      0.000      -1.261      -0.846\n",
       "================================================================================================\n",
       "\"\"\""
      ]
     },
     "execution_count": 42,
     "metadata": {},
     "output_type": "execute_result"
    }
   ],
   "source": [
    "ols_clf = sm.Logit(y_train, X_train_ols.drop(['T Stage', 'Grade'], axis=1))\n",
    "ols = ols_clf.fit()\n",
    "\n",
    "ols.summary()"
   ]
  },
  {
   "cell_type": "code",
   "execution_count": 43,
   "id": "26909596",
   "metadata": {},
   "outputs": [
    {
     "name": "stdout",
     "output_type": "stream",
     "text": [
      "Optimization terminated successfully.\n",
      "         Current function value: 0.347724\n",
      "         Iterations 8\n"
     ]
    },
    {
     "data": {
      "text/html": [
       "<table class=\"simpletable\">\n",
       "<caption>Logit Regression Results</caption>\n",
       "<tr>\n",
       "  <th>Dep. Variable:</th>        <td>Status</td>      <th>  No. Observations:  </th>  <td>  5450</td> \n",
       "</tr>\n",
       "<tr>\n",
       "  <th>Model:</th>                 <td>Logit</td>      <th>  Df Residuals:      </th>  <td>  5432</td> \n",
       "</tr>\n",
       "<tr>\n",
       "  <th>Method:</th>                 <td>MLE</td>       <th>  Df Model:          </th>  <td>    17</td> \n",
       "</tr>\n",
       "<tr>\n",
       "  <th>Date:</th>            <td>Tue, 04 Apr 2023</td> <th>  Pseudo R-squ.:     </th>  <td>0.4983</td> \n",
       "</tr>\n",
       "<tr>\n",
       "  <th>Time:</th>                <td>23:11:02</td>     <th>  Log-Likelihood:    </th> <td> -1895.1</td>\n",
       "</tr>\n",
       "<tr>\n",
       "  <th>converged:</th>             <td>True</td>       <th>  LL-Null:           </th> <td> -3777.7</td>\n",
       "</tr>\n",
       "<tr>\n",
       "  <th>Covariance Type:</th>     <td>nonrobust</td>    <th>  LLR p-value:       </th>  <td> 0.000</td> \n",
       "</tr>\n",
       "</table>\n",
       "<table class=\"simpletable\">\n",
       "<tr>\n",
       "                <td></td>                  <th>coef</th>     <th>std err</th>      <th>z</th>      <th>P>|z|</th>  <th>[0.025</th>    <th>0.975]</th>  \n",
       "</tr>\n",
       "<tr>\n",
       "  <th>const</th>                        <td>    6.5358</td> <td>    0.459</td> <td>   14.237</td> <td> 0.000</td> <td>    5.636</td> <td>    7.436</td>\n",
       "</tr>\n",
       "<tr>\n",
       "  <th>Age</th>                          <td>    0.0149</td> <td>    0.005</td> <td>    3.069</td> <td> 0.002</td> <td>    0.005</td> <td>    0.024</td>\n",
       "</tr>\n",
       "<tr>\n",
       "  <th>N Stage</th>                      <td>   -0.9873</td> <td>    0.139</td> <td>   -7.080</td> <td> 0.000</td> <td>   -1.261</td> <td>   -0.714</td>\n",
       "</tr>\n",
       "<tr>\n",
       "  <th>6th Stage</th>                    <td>    0.3110</td> <td>    0.070</td> <td>    4.417</td> <td> 0.000</td> <td>    0.173</td> <td>    0.449</td>\n",
       "</tr>\n",
       "<tr>\n",
       "  <th>Regional Node Examined</th>       <td>   -0.0167</td> <td>    0.009</td> <td>   -1.813</td> <td> 0.070</td> <td>   -0.035</td> <td>    0.001</td>\n",
       "</tr>\n",
       "<tr>\n",
       "  <th>Reginol Node Positive</th>        <td>    0.0797</td> <td>    0.020</td> <td>    4.044</td> <td> 0.000</td> <td>    0.041</td> <td>    0.118</td>\n",
       "</tr>\n",
       "<tr>\n",
       "  <th>Survival Months</th>              <td>   -0.0503</td> <td>    0.003</td> <td>  -19.556</td> <td> 0.000</td> <td>   -0.055</td> <td>   -0.045</td>\n",
       "</tr>\n",
       "<tr>\n",
       "  <th>Survival_bin</th>                 <td>    0.9048</td> <td>    0.174</td> <td>    5.210</td> <td> 0.000</td> <td>    0.564</td> <td>    1.245</td>\n",
       "</tr>\n",
       "<tr>\n",
       "  <th>Pos_exam_ratio</th>               <td>    1.8356</td> <td>    0.281</td> <td>    6.537</td> <td> 0.000</td> <td>    1.285</td> <td>    2.386</td>\n",
       "</tr>\n",
       "<tr>\n",
       "  <th>Race_Other</th>                   <td>   -3.2573</td> <td>    0.272</td> <td>  -11.983</td> <td> 0.000</td> <td>   -3.790</td> <td>   -2.725</td>\n",
       "</tr>\n",
       "<tr>\n",
       "  <th>Race_White</th>                   <td>   -1.7181</td> <td>    0.126</td> <td>  -13.680</td> <td> 0.000</td> <td>   -1.964</td> <td>   -1.472</td>\n",
       "</tr>\n",
       "<tr>\n",
       "  <th>Marital Status_Married</th>       <td>   -1.7312</td> <td>    0.096</td> <td>  -17.977</td> <td> 0.000</td> <td>   -1.920</td> <td>   -1.542</td>\n",
       "</tr>\n",
       "<tr>\n",
       "  <th>Marital Status_Separated</th>     <td>   -2.6838</td> <td>    0.529</td> <td>   -5.076</td> <td> 0.000</td> <td>   -3.720</td> <td>   -1.647</td>\n",
       "</tr>\n",
       "<tr>\n",
       "  <th>Marital Status_Single</th>        <td>   -2.7766</td> <td>    0.164</td> <td>  -16.919</td> <td> 0.000</td> <td>   -3.098</td> <td>   -2.455</td>\n",
       "</tr>\n",
       "<tr>\n",
       "  <th>Marital Status_Widowed</th>       <td>   -2.8300</td> <td>    0.243</td> <td>  -11.627</td> <td> 0.000</td> <td>   -3.307</td> <td>   -2.353</td>\n",
       "</tr>\n",
       "<tr>\n",
       "  <th>A Stage_Regional</th>             <td>   -0.9665</td> <td>    0.221</td> <td>   -4.367</td> <td> 0.000</td> <td>   -1.400</td> <td>   -0.533</td>\n",
       "</tr>\n",
       "<tr>\n",
       "  <th>Estrogen Status_Positive</th>     <td>   -0.6515</td> <td>    0.168</td> <td>   -3.879</td> <td> 0.000</td> <td>   -0.981</td> <td>   -0.322</td>\n",
       "</tr>\n",
       "<tr>\n",
       "  <th>Progesterone Status_Positive</th> <td>   -1.0555</td> <td>    0.106</td> <td>   -9.966</td> <td> 0.000</td> <td>   -1.263</td> <td>   -0.848</td>\n",
       "</tr>\n",
       "</table>"
      ],
      "text/plain": [
       "<class 'statsmodels.iolib.summary.Summary'>\n",
       "\"\"\"\n",
       "                           Logit Regression Results                           \n",
       "==============================================================================\n",
       "Dep. Variable:                 Status   No. Observations:                 5450\n",
       "Model:                          Logit   Df Residuals:                     5432\n",
       "Method:                           MLE   Df Model:                           17\n",
       "Date:                Tue, 04 Apr 2023   Pseudo R-squ.:                  0.4983\n",
       "Time:                        23:11:02   Log-Likelihood:                -1895.1\n",
       "converged:                       True   LL-Null:                       -3777.7\n",
       "Covariance Type:            nonrobust   LLR p-value:                     0.000\n",
       "================================================================================================\n",
       "                                   coef    std err          z      P>|z|      [0.025      0.975]\n",
       "------------------------------------------------------------------------------------------------\n",
       "const                            6.5358      0.459     14.237      0.000       5.636       7.436\n",
       "Age                              0.0149      0.005      3.069      0.002       0.005       0.024\n",
       "N Stage                         -0.9873      0.139     -7.080      0.000      -1.261      -0.714\n",
       "6th Stage                        0.3110      0.070      4.417      0.000       0.173       0.449\n",
       "Regional Node Examined          -0.0167      0.009     -1.813      0.070      -0.035       0.001\n",
       "Reginol Node Positive            0.0797      0.020      4.044      0.000       0.041       0.118\n",
       "Survival Months                 -0.0503      0.003    -19.556      0.000      -0.055      -0.045\n",
       "Survival_bin                     0.9048      0.174      5.210      0.000       0.564       1.245\n",
       "Pos_exam_ratio                   1.8356      0.281      6.537      0.000       1.285       2.386\n",
       "Race_Other                      -3.2573      0.272    -11.983      0.000      -3.790      -2.725\n",
       "Race_White                      -1.7181      0.126    -13.680      0.000      -1.964      -1.472\n",
       "Marital Status_Married          -1.7312      0.096    -17.977      0.000      -1.920      -1.542\n",
       "Marital Status_Separated        -2.6838      0.529     -5.076      0.000      -3.720      -1.647\n",
       "Marital Status_Single           -2.7766      0.164    -16.919      0.000      -3.098      -2.455\n",
       "Marital Status_Widowed          -2.8300      0.243    -11.627      0.000      -3.307      -2.353\n",
       "A Stage_Regional                -0.9665      0.221     -4.367      0.000      -1.400      -0.533\n",
       "Estrogen Status_Positive        -0.6515      0.168     -3.879      0.000      -0.981      -0.322\n",
       "Progesterone Status_Positive    -1.0555      0.106     -9.966      0.000      -1.263      -0.848\n",
       "================================================================================================\n",
       "\"\"\""
      ]
     },
     "execution_count": 43,
     "metadata": {},
     "output_type": "execute_result"
    }
   ],
   "source": [
    "ols_clf = sm.Logit(y_train, X_train_ols.drop(['T Stage', 'Grade', 'Tumor Size'], axis=1))\n",
    "ols = ols_clf.fit()\n",
    "\n",
    "ols.summary()"
   ]
  },
  {
   "cell_type": "markdown",
   "id": "f3eaf97e",
   "metadata": {},
   "source": [
    "**NOTE**\n",
    "\n",
    "So far, we've got a logistic reression model with all features are significant at a significance level of 0.5. \n",
    "We'll use these features to build a best predictive logistic regression model. "
   ]
  },
  {
   "cell_type": "code",
   "execution_count": 44,
   "id": "bab9bf9e",
   "metadata": {},
   "outputs": [],
   "source": [
    "X_train_lr = X_train_nosca.drop(['T Stage', 'Grade', 'Tumor Size'], axis=1) \n",
    "X_test_lr = X_test_nosca.drop(['T Stage', 'Grade', 'Tumor Size'], axis=1) \n",
    "lr_clf = LogisticRegression(solver='newton-cholesky', penalty=None, random_state=RANDOM_SEED)\n",
    "lr_clf.fit(X_train_lr, y_train)\n",
    "y_pred = lr_clf.predict(X_test_lr)"
   ]
  },
  {
   "cell_type": "code",
   "execution_count": 45,
   "id": "1439fbb5",
   "metadata": {},
   "outputs": [],
   "source": [
    "def eval_clf(y_pred, y_test, model_name='New Model'):\n",
    "    acc = accuracy_score(y_test, y_pred)\n",
    "    f1 = f1_score(y_test, y_pred, pos_label=1, average=None)[1]\n",
    "    precision = precision_score(y_test, y_pred, pos_label=1, average=None)[1]\n",
    "    recall = recall_score(y_test, y_pred, pos_label=1, average=None)[1]\n",
    "    auc = roc_auc_score(y_test, y_pred)\n",
    "    \n",
    "    return pd.DataFrame(data={'Model': model_name, 'Accuracy': acc, 'F1_score': f1, 'Precision':precision,\n",
    "                             'Recall': recall, \"AUC\": auc}, index=[0])"
   ]
  },
  {
   "cell_type": "code",
   "execution_count": 46,
   "id": "5cacf65b",
   "metadata": {},
   "outputs": [
    {
     "data": {
      "text/html": [
       "<div>\n",
       "<style scoped>\n",
       "    .dataframe tbody tr th:only-of-type {\n",
       "        vertical-align: middle;\n",
       "    }\n",
       "\n",
       "    .dataframe tbody tr th {\n",
       "        vertical-align: top;\n",
       "    }\n",
       "\n",
       "    .dataframe thead th {\n",
       "        text-align: right;\n",
       "    }\n",
       "</style>\n",
       "<table border=\"1\" class=\"dataframe\">\n",
       "  <thead>\n",
       "    <tr style=\"text-align: right;\">\n",
       "      <th></th>\n",
       "      <th>Model</th>\n",
       "      <th>Accuracy</th>\n",
       "      <th>F1_score</th>\n",
       "      <th>Precision</th>\n",
       "      <th>Recall</th>\n",
       "      <th>AUC</th>\n",
       "    </tr>\n",
       "  </thead>\n",
       "  <tbody>\n",
       "    <tr>\n",
       "      <th>0</th>\n",
       "      <td>Logistic Regression - Reduced</td>\n",
       "      <td>0.84472</td>\n",
       "      <td>0.545455</td>\n",
       "      <td>0.493421</td>\n",
       "      <td>0.609756</td>\n",
       "      <td>0.748426</td>\n",
       "    </tr>\n",
       "  </tbody>\n",
       "</table>\n",
       "</div>"
      ],
      "text/plain": [
       "                           Model  Accuracy  F1_score  Precision    Recall  \\\n",
       "0  Logistic Regression - Reduced   0.84472  0.545455   0.493421  0.609756   \n",
       "\n",
       "        AUC  \n",
       "0  0.748426  "
      ]
     },
     "execution_count": 46,
     "metadata": {},
     "output_type": "execute_result"
    }
   ],
   "source": [
    "perf_lr_reduced = eval_clf(y_pred, y_test, 'Logistic Regression - Reduced')\n",
    "perf_lr_reduced"
   ]
  },
  {
   "cell_type": "markdown",
   "id": "c67643b7",
   "metadata": {},
   "source": [
    "**NOTE**\n",
    "\n",
    "The AUC score, recall and precision is a little bit better than the initial logistic regression model from cross validation. Next, we'll choose a best threshold to maxmize AUC."
   ]
  },
  {
   "cell_type": "code",
   "execution_count": 47,
   "id": "7dc44d58",
   "metadata": {},
   "outputs": [
    {
     "name": "stdout",
     "output_type": "stream",
     "text": [
      "Optimal threshold: 0.4628314407300726\n"
     ]
    },
    {
     "data": {
      "text/html": [
       "<div>\n",
       "<style scoped>\n",
       "    .dataframe tbody tr th:only-of-type {\n",
       "        vertical-align: middle;\n",
       "    }\n",
       "\n",
       "    .dataframe tbody tr th {\n",
       "        vertical-align: top;\n",
       "    }\n",
       "\n",
       "    .dataframe thead th {\n",
       "        text-align: right;\n",
       "    }\n",
       "</style>\n",
       "<table border=\"1\" class=\"dataframe\">\n",
       "  <thead>\n",
       "    <tr style=\"text-align: right;\">\n",
       "      <th></th>\n",
       "      <th>Model</th>\n",
       "      <th>Accuracy</th>\n",
       "      <th>F1_score</th>\n",
       "      <th>Precision</th>\n",
       "      <th>Recall</th>\n",
       "      <th>AUC</th>\n",
       "    </tr>\n",
       "  </thead>\n",
       "  <tbody>\n",
       "    <tr>\n",
       "      <th>0</th>\n",
       "      <td>Logistic Regression - Optimal</td>\n",
       "      <td>0.842236</td>\n",
       "      <td>0.551237</td>\n",
       "      <td>0.4875</td>\n",
       "      <td>0.634146</td>\n",
       "      <td>0.756956</td>\n",
       "    </tr>\n",
       "  </tbody>\n",
       "</table>\n",
       "</div>"
      ],
      "text/plain": [
       "                           Model  Accuracy  F1_score  Precision    Recall  \\\n",
       "0  Logistic Regression - Optimal  0.842236  0.551237     0.4875  0.634146   \n",
       "\n",
       "        AUC  \n",
       "0  0.756956  "
      ]
     },
     "execution_count": 47,
     "metadata": {},
     "output_type": "execute_result"
    },
    {
     "data": {
      "image/png": "[encoded data removed]",
      "text/plain": [
       "<Figure size 288x288 with 1 Axes>"
      ]
     },
     "metadata": {
      "needs_background": "light"
     },
     "output_type": "display_data"
    }
   ],
   "source": [
    "y_prob = lr_clf.predict_proba(X_test_lr)[:, 1]\n",
    "fpr, tpr, thresholds = roc_curve(y_test, y_prob)\n",
    "\n",
    "plt.figure(figsize=(4, 4))\n",
    "plt.plot(fpr, tpr)\n",
    "plt.plot([0, 1], [0, 1], 'k--') \n",
    "plt.xlabel('False Positive Rate')\n",
    "plt.ylabel('True Positive Rate')\n",
    "\n",
    "# Find the optimal threshold that maximizes the ROC AUC score\n",
    "optimal_threshold = thresholds[np.argmax(tpr - fpr)]\n",
    "print(\"Optimal threshold:\", optimal_threshold)\n",
    "\n",
    "# Use the optimal threshold to make predictions\n",
    "y_pred = (y_prob >= optimal_threshold).astype(int)\n",
    "\n",
    "perf_lr_optimal = eval_clf(y_pred, y_test, 'Logistic Regression - Optimal')\n",
    "perf_lr_optimal"
   ]
  },
  {
   "cell_type": "code",
   "execution_count": 48,
   "id": "0bb4288a",
   "metadata": {},
   "outputs": [
    {
     "data": {
      "text/html": [
       "<div>\n",
       "<style scoped>\n",
       "    .dataframe tbody tr th:only-of-type {\n",
       "        vertical-align: middle;\n",
       "    }\n",
       "\n",
       "    .dataframe tbody tr th {\n",
       "        vertical-align: top;\n",
       "    }\n",
       "\n",
       "    .dataframe thead th {\n",
       "        text-align: right;\n",
       "    }\n",
       "</style>\n",
       "<table border=\"1\" class=\"dataframe\">\n",
       "  <thead>\n",
       "    <tr style=\"text-align: right;\">\n",
       "      <th></th>\n",
       "      <th>Coef</th>\n",
       "    </tr>\n",
       "  </thead>\n",
       "  <tbody>\n",
       "    <tr>\n",
       "      <th>Age</th>\n",
       "      <td>0.014867</td>\n",
       "    </tr>\n",
       "    <tr>\n",
       "      <th>N Stage</th>\n",
       "      <td>-0.987277</td>\n",
       "    </tr>\n",
       "    <tr>\n",
       "      <th>6th Stage</th>\n",
       "      <td>0.311032</td>\n",
       "    </tr>\n",
       "    <tr>\n",
       "      <th>Regional Node Examined</th>\n",
       "      <td>-0.016699</td>\n",
       "    </tr>\n",
       "    <tr>\n",
       "      <th>Reginol Node Positive</th>\n",
       "      <td>0.079710</td>\n",
       "    </tr>\n",
       "    <tr>\n",
       "      <th>Survival Months</th>\n",
       "      <td>-0.050348</td>\n",
       "    </tr>\n",
       "    <tr>\n",
       "      <th>Survival_bin</th>\n",
       "      <td>0.904675</td>\n",
       "    </tr>\n",
       "    <tr>\n",
       "      <th>Pos_exam_ratio</th>\n",
       "      <td>1.835599</td>\n",
       "    </tr>\n",
       "    <tr>\n",
       "      <th>Race_Other</th>\n",
       "      <td>-3.257193</td>\n",
       "    </tr>\n",
       "    <tr>\n",
       "      <th>Race_White</th>\n",
       "      <td>-1.718013</td>\n",
       "    </tr>\n",
       "    <tr>\n",
       "      <th>Marital Status_Married</th>\n",
       "      <td>-1.731145</td>\n",
       "    </tr>\n",
       "    <tr>\n",
       "      <th>Marital Status_Separated</th>\n",
       "      <td>-2.683706</td>\n",
       "    </tr>\n",
       "    <tr>\n",
       "      <th>Marital Status_Single</th>\n",
       "      <td>-2.776482</td>\n",
       "    </tr>\n",
       "    <tr>\n",
       "      <th>Marital Status_Widowed</th>\n",
       "      <td>-2.829928</td>\n",
       "    </tr>\n",
       "    <tr>\n",
       "      <th>A Stage_Regional</th>\n",
       "      <td>-0.966498</td>\n",
       "    </tr>\n",
       "    <tr>\n",
       "      <th>Estrogen Status_Positive</th>\n",
       "      <td>-0.651439</td>\n",
       "    </tr>\n",
       "    <tr>\n",
       "      <th>Progesterone Status_Positive</th>\n",
       "      <td>-1.055512</td>\n",
       "    </tr>\n",
       "  </tbody>\n",
       "</table>\n",
       "</div>"
      ],
      "text/plain": [
       "                                  Coef\n",
       "Age                           0.014867\n",
       "N Stage                      -0.987277\n",
       "6th Stage                     0.311032\n",
       "Regional Node Examined       -0.016699\n",
       "Reginol Node Positive         0.079710\n",
       "Survival Months              -0.050348\n",
       "Survival_bin                  0.904675\n",
       "Pos_exam_ratio                1.835599\n",
       "Race_Other                   -3.257193\n",
       "Race_White                   -1.718013\n",
       "Marital Status_Married       -1.731145\n",
       "Marital Status_Separated     -2.683706\n",
       "Marital Status_Single        -2.776482\n",
       "Marital Status_Widowed       -2.829928\n",
       "A Stage_Regional             -0.966498\n",
       "Estrogen Status_Positive     -0.651439\n",
       "Progesterone Status_Positive -1.055512"
      ]
     },
     "execution_count": 48,
     "metadata": {},
     "output_type": "execute_result"
    }
   ],
   "source": [
    "pd.DataFrame(data=lr_clf.coef_.T, index=X_train_lr.columns, columns=['Coef'])"
   ]
  },
  {
   "cell_type": "code",
   "execution_count": 49,
   "id": "f2d3cf69",
   "metadata": {},
   "outputs": [
    {
     "data": {
      "text/plain": [
       "array([6.53560383])"
      ]
     },
     "execution_count": 49,
     "metadata": {},
     "output_type": "execute_result"
    }
   ],
   "source": [
    "lr_clf.intercept_"
   ]
  },
  {
   "cell_type": "markdown",
   "id": "90b99b1c",
   "metadata": {},
   "source": [
    "**CONCLUSION about the LOGISTIC REGRESSION with best PERFORMANCE**\n",
    "\n",
    "- The optimal threshold is 0.46, which leads to an AUC score of 0.76. This result is pretty much better than the base line model. \n",
    "- The logistic regression function is: $logit_d_e_a_d = 6.54 + 0.01*Age - 0.99*N Stage + 0.31*6th Stage - 0.02*Regional Node Examined + 0.08*Reginol Node Positive - 0.05*Survival Months + 0.90*Survival_bin + 1.84*Pos_exam_ratio - 3.26*Race_Other - 1.72*Race_White - 1.73*Marital Status_Married - 2.68*Marital Status_Separated - 2.78*Marital Status_Single - 2.83*Marital Status_Widowed - 0.97*A Stage_Regional - 0.65*Estrogen Status_Positive - 1.06*Progesterone Status_Positive$"
   ]
  },
  {
   "cell_type": "markdown",
   "id": "d6cedc13",
   "metadata": {},
   "source": [
    "**NEXT STEP**\n",
    "\n",
    "Simplest logistic regression."
   ]
  },
  {
   "cell_type": "markdown",
   "id": "3ff07c06",
   "metadata": {},
   "source": [
    "### 3.3 Random forest "
   ]
  },
  {
   "cell_type": "code",
   "execution_count": 50,
   "id": "ac5b9ff4",
   "metadata": {},
   "outputs": [
    {
     "name": "stdout",
     "output_type": "stream",
     "text": [
      "Optimal threshold: 0.45479301820145523\n"
     ]
    },
    {
     "data": {
      "text/html": [
       "<div>\n",
       "<style scoped>\n",
       "    .dataframe tbody tr th:only-of-type {\n",
       "        vertical-align: middle;\n",
       "    }\n",
       "\n",
       "    .dataframe tbody tr th {\n",
       "        vertical-align: top;\n",
       "    }\n",
       "\n",
       "    .dataframe thead th {\n",
       "        text-align: right;\n",
       "    }\n",
       "</style>\n",
       "<table border=\"1\" class=\"dataframe\">\n",
       "  <thead>\n",
       "    <tr style=\"text-align: right;\">\n",
       "      <th></th>\n",
       "      <th>Model</th>\n",
       "      <th>Accuracy</th>\n",
       "      <th>F1_score</th>\n",
       "      <th>Precision</th>\n",
       "      <th>Recall</th>\n",
       "      <th>AUC</th>\n",
       "    </tr>\n",
       "  </thead>\n",
       "  <tbody>\n",
       "    <tr>\n",
       "      <th>0</th>\n",
       "      <td>Random Forest - Optimal</td>\n",
       "      <td>0.878261</td>\n",
       "      <td>0.623077</td>\n",
       "      <td>0.591241</td>\n",
       "      <td>0.658537</td>\n",
       "      <td>0.788213</td>\n",
       "    </tr>\n",
       "  </tbody>\n",
       "</table>\n",
       "</div>"
      ],
      "text/plain": [
       "                     Model  Accuracy  F1_score  Precision    Recall       AUC\n",
       "0  Random Forest - Optimal  0.878261  0.623077   0.591241  0.658537  0.788213"
      ]
     },
     "execution_count": 50,
     "metadata": {},
     "output_type": "execute_result"
    },
    {
     "data": {
      "image/png": "[encoded data removed]",
      "text/plain": [
       "<Figure size 288x288 with 1 Axes>"
      ]
     },
     "metadata": {
      "needs_background": "light"
     },
     "output_type": "display_data"
    }
   ],
   "source": [
    "y_prob = best_rf.predict_proba(X_test)[:, 1]\n",
    "fpr, tpr, thresholds = roc_curve(y_test, y_prob)\n",
    "\n",
    "plt.figure(figsize=(4, 4))\n",
    "plt.plot(fpr, tpr)\n",
    "plt.plot([0, 1], [0, 1], 'k--') \n",
    "plt.xlabel('False Positive Rate')\n",
    "plt.ylabel('True Positive Rate')\n",
    "\n",
    "# Find the optimal threshold that maximizes the ROC AUC score\n",
    "optimal_threshold = thresholds[np.argmax(tpr - fpr)]\n",
    "print(\"Optimal threshold:\", optimal_threshold)\n",
    "\n",
    "# Use the optimal threshold to make predictions\n",
    "y_pred = (y_prob >= optimal_threshold).astype(int)\n",
    "\n",
    "perf_lr_optimal = eval_clf(y_pred, y_test, 'Random Forest - Optimal')\n",
    "perf_lr_optimal"
   ]
  },
  {
   "cell_type": "markdown",
   "id": "545ca2d3",
   "metadata": {},
   "source": [
    "**NOTE**\n",
    "\n",
    "By optimizing the threashold, we got a best prediction model with a AUC of 0.79 and a recall score of 0.66. This model is good to be used in prediction."
   ]
  },
  {
   "cell_type": "code",
   "execution_count": 52,
   "id": "488e7520",
   "metadata": {},
   "outputs": [
    {
     "data": {
      "text/html": [
       "<div>\n",
       "<style scoped>\n",
       "    .dataframe tbody tr th:only-of-type {\n",
       "        vertical-align: middle;\n",
       "    }\n",
       "\n",
       "    .dataframe tbody tr th {\n",
       "        vertical-align: top;\n",
       "    }\n",
       "\n",
       "    .dataframe thead th {\n",
       "        text-align: right;\n",
       "    }\n",
       "</style>\n",
       "<table border=\"1\" class=\"dataframe\">\n",
       "  <thead>\n",
       "    <tr style=\"text-align: right;\">\n",
       "      <th></th>\n",
       "      <th>n_estimators</th>\n",
       "      <th>min_samples_split</th>\n",
       "      <th>max_depth</th>\n",
       "      <th>criterion</th>\n",
       "    </tr>\n",
       "  </thead>\n",
       "  <tbody>\n",
       "    <tr>\n",
       "      <th>0</th>\n",
       "      <td>200</td>\n",
       "      <td>6</td>\n",
       "      <td>10</td>\n",
       "      <td>gini</td>\n",
       "    </tr>\n",
       "  </tbody>\n",
       "</table>\n",
       "</div>"
      ],
      "text/plain": [
       "   n_estimators  min_samples_split  max_depth criterion\n",
       "0           200                  6         10      gini"
      ]
     },
     "execution_count": 52,
     "metadata": {},
     "output_type": "execute_result"
    }
   ],
   "source": [
    "params_rf"
   ]
  },
  {
   "cell_type": "code",
   "execution_count": 58,
   "id": "a181ca81",
   "metadata": {},
   "outputs": [
    {
     "data": {
      "text/plain": [
       "(array([ 0,  1,  2,  3,  4,  5,  6,  7,  8,  9, 10, 11, 12, 13, 14, 15, 16,\n",
       "        17, 18, 19]),\n",
       " [Text(0, 0, 'Survival Months'),\n",
       "  Text(1, 0, 'Pos_exam_ratio'),\n",
       "  Text(2, 0, 'Survival_bin'),\n",
       "  Text(3, 0, 'Progesterone Status_Positive'),\n",
       "  Text(4, 0, 'Marital Status_Married'),\n",
       "  Text(5, 0, 'Tumor Size'),\n",
       "  Text(6, 0, 'Reginol Node Positive'),\n",
       "  Text(7, 0, 'Age'),\n",
       "  Text(8, 0, 'Regional Node Examined'),\n",
       "  Text(9, 0, 'Marital Status_Single'),\n",
       "  Text(10, 0, 'Estrogen Status_Positive'),\n",
       "  Text(11, 0, '6th Stage'),\n",
       "  Text(12, 0, 'Race_White'),\n",
       "  Text(13, 0, 'Race_Other'),\n",
       "  Text(14, 0, 'Grade'),\n",
       "  Text(15, 0, 'T Stage'),\n",
       "  Text(16, 0, 'N Stage'),\n",
       "  Text(17, 0, 'Marital Status_Widowed'),\n",
       "  Text(18, 0, 'A Stage_Regional'),\n",
       "  Text(19, 0, 'Marital Status_Separated')])"
      ]
     },
     "execution_count": 58,
     "metadata": {},
     "output_type": "execute_result"
    },
    {
     "data": {
      "image/png": "[encoded data removed]",
      "text/plain": [
       "<Figure size 432x288 with 1 Axes>"
      ]
     },
     "metadata": {
      "needs_background": "light"
     },
     "output_type": "display_data"
    }
   ],
   "source": [
    "rf = RandomForestClassifier(n_estimators=200, min_samples_split=6, max_depth=10, criterion='gini', random_state=RANDOM_SEED)\n",
    "rf.fit(X_train, y_train)\n",
    "importance = rf.feature_importances_\n",
    "index = np.argsort(importance)[::-1]\n",
    "sns.barplot(x=X.columns[index], y=importance[index]) \n",
    "plt.xticks(rotation=90)"
   ]
  }
 ],
 "metadata": {
  "kernelspec": {
   "display_name": "Python 3 (ipykernel)",
   "language": "python",
   "name": "python3"
  },
  "language_info": {
   "codemirror_mode": {
    "name": "ipython",
    "version": 3
   },
   "file_extension": ".py",
   "mimetype": "text/x-python",
   "name": "python",
   "nbconvert_exporter": "python",
   "pygments_lexer": "ipython3",
   "version": "3.9.12"
  }
 },
 "nbformat": 4,
 "nbformat_minor": 5
}
